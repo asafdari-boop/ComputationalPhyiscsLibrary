{
  "nbformat": 4,
  "nbformat_minor": 0,
  "metadata": {
    "colab": {
      "provenance": [],
      "include_colab_link": true
    },
    "kernelspec": {
      "name": "python3",
      "display_name": "Python 3"
    },
    "language_info": {
      "name": "python"
    }
  },
  "cells": [
    {
      "cell_type": "markdown",
      "metadata": {
        "id": "view-in-github",
        "colab_type": "text"
      },
      "source": [
        "<a href=\"https://colab.research.google.com/github/asafdari-boop/ComputationalPhyiscsLibrary/blob/main/ODE3.ipynb\" target=\"_parent\"><img src=\"https://colab.research.google.com/assets/colab-badge.svg\" alt=\"Open In Colab\"/></a>"
      ]
    },
    {
      "cell_type": "markdown",
      "metadata": {
        "id": "s7rTftc4WnFw"
      },
      "source": [
        "# The shooting method\n",
        "\n",
        "Throw a ball up with an initial velocity $v_0$:\n",
        "\n",
        "$\\frac{dx}{dt} = v $\n",
        "\n",
        "$\\frac{dv}{dt} = -g$\n",
        "\n",
        "convert a boundary value problem to an initial value problem and then find the root of a nonlinear equation.\n",
        "\n",
        "Example:\n",
        "\n",
        "$$\n",
        "\\frac{d^2x}{dt^2} = f(\\frac{dx}{dt}, x, t)\n",
        "$$\n",
        "with $a \\le t \\le b$, $x(t=a)=\\alpha$ and $x(t=b)=\\beta$. \n",
        "\n",
        "We can convert this problem to\n",
        "$$\n",
        "\\frac{d^2x}{dt^2} = f(\\frac{dx}{dt}, x, t)\n",
        "$$\n",
        "with  $x(t=a)=\\alpha$ and $\\frac{dx}{dt}(t=a)=v$. \n",
        "\n",
        "The goal is to determine an appropriate value $v$ for the initial slope so that the solution of the initial value problem is also a solution of the boundary value problem. \n",
        "\n",
        "If we define a function $h(v)=x(t=b, v)-\\beta$, we need to find the root. If we use the Newton's mthod:\n",
        "\n",
        "$$\n",
        "v_{n+1} = v_n - \\frac{h(v_n)}{h'_{v_n}} = v_n - \\frac{x(t=b, v_n)-\\beta}{\\frac{d}{dt}x(t=b, v)|_{v_{n}}} = v_n-\\frac{[x(t=b, v_n)-\\beta](v_n-v_{n-1})}{x(t=b, v_n)-x(t=b, v_{n-1})}\n",
        "$$\n"
      ]
    },
    {
      "cell_type": "code",
      "metadata": {
        "id": "WKE50MyMJRPq",
        "outputId": "564d851a-35c2-458e-ae99-e086d37b0ae8",
        "colab": {
          "base_uri": "https://localhost:8080/"
        }
      },
      "source": [
        "from numpy import array,arange\n",
        "\n",
        "g = 9.81         # Acceleration due to gravity\n",
        "a = 0.0          # Initial time\n",
        "b = 10.0         # Final time\n",
        "N = 1000         # Number of Runge-Kutta steps\n",
        "h = (b-a)/N      # Size of Runge-Kutta steps\n",
        "target = 1e-10   # Target accuracy for binary search\n",
        "\n",
        "# Function for Runge-Kutta calculation\n",
        "def f(r):\n",
        "    x = r[0]\n",
        "    v = r[1]\n",
        "    fx = v\n",
        "    fy = -g\n",
        "    return array([fx, fy], float)\n",
        "\n",
        "# Function to calculate the final height given an initial speed v0\n",
        "def height(v0):\n",
        "    # set initial height to 0 and the initial velocity to v0\n",
        "    r = array([0.0, v0], float)\n",
        "\n",
        "    for t in arange(a,b,h):\n",
        "        k1 = h*f(r)\n",
        "        k2 = h*f(r+0.5*k1)\n",
        "        k3 = h*f(r+0.5*k2)\n",
        "        k4 = h*f(r+k3)\n",
        "        r += (k1+2*k2+2*k3+k4)/6\n",
        "    return r[0]   # final height \n",
        "\n",
        "# Main program performs a binary search\n",
        "# the velocity we need will be between the range [v1, v2]\n",
        "# need to find a velocity so that the predicted height agrees with the height 0 we want to pass\n",
        "v1 = 0.01     # search range\n",
        "v2 = 1000.0   # search range\n",
        "h1 = height(v1)\n",
        "h2 = height(v2)\n",
        "\n",
        "while abs(h2-h1)>target:\n",
        "    vp = (v1+v2)/2\n",
        "    hp = height(vp)\n",
        "    if h1*hp>0:\n",
        "        v1 = vp\n",
        "        h1 = hp\n",
        "    else:\n",
        "        v2 = vp\n",
        "        h2 = hp\n",
        "\n",
        "v = (v1+v2)/2\n",
        "print(\"The required initial velocity is\",v,\"m/s\")"
      ],
      "execution_count": null,
      "outputs": [
        {
          "output_type": "stream",
          "name": "stdout",
          "text": [
            "The required initial velocity is 49.04999999999815 m/s\n"
          ]
        }
      ]
    },
    {
      "cell_type": "markdown",
      "metadata": {
        "id": "EbrDcIKvyksB"
      },
      "source": [
        "# Eigenvalue for a square well\n",
        "$$\n",
        "-\\frac{\\hbar^2}{2m} \\frac{d^2 \\psi(x)}{dt^2} + V \\psi(x) = E \\psi(x)\n",
        "$$\n",
        "with $V=0$ for $0<x<L$ and $\\infty$ elsewhere, $\\psi(x=0)=\\psi(x=L)=0$\n",
        "\n",
        "Define $\\frac{d\\psi}{dt}=\\phi$ and $\\frac{d\\phi}{dt} = \\frac{2m}{\\hbar^2} [V-E]\\psi$"
      ]
    },
    {
      "cell_type": "code",
      "metadata": {
        "id": "DWqqIyquKHWg",
        "outputId": "bcddb135-6af7-4e74-897f-86f391021f0a",
        "colab": {
          "base_uri": "https://localhost:8080/"
        }
      },
      "source": [
        "from numpy import array,arange\n",
        "\n",
        "# Constants\n",
        "m = 9.1094e-31     # Mass of electron\n",
        "hbar = 1.0546e-34  # Planck's constant over 2*pi\n",
        "e = 1.6022e-19     # Electron charge\n",
        "L = 5.2918e-11     # Bohr radius\n",
        "N = 1000\n",
        "h = L/N\n",
        "\n",
        "# Potential function\n",
        "def V(x):\n",
        "    return 0.0\n",
        "\n",
        "# the above two differential equations\n",
        "def f(r, x, E):\n",
        "    psi = r[0]\n",
        "    phi = r[1]\n",
        "    fpsi = phi\n",
        "    fphi = (2*m/hbar**2)*(V(x)-E)*psi\n",
        "    return array([fpsi, fphi],float)\n",
        "\n",
        "# Calculate the wavefunction for a particular energy\n",
        "def solve(E):\n",
        "    psi = 0.0\n",
        "    phi = 1.0\n",
        "    r = array([psi,phi], float)\n",
        "\n",
        "    for x in arange(0, L, h):\n",
        "        k1 = h*f(r, x, E)\n",
        "        k2 = h*f(r+0.5*k1, x+0.5*h, E)\n",
        "        k3 = h*f(r+0.5*k2, x+0.5*h, E)\n",
        "        k4 = h*f(r+k3, x+h, E)\n",
        "        r += (k1+2*k2+2*k3+k4)/6\n",
        "\n",
        "    return r[0]\n",
        "\n",
        "# Main program to find the energy using the secant method\n",
        "# which is the root of the function solve(E)\n",
        "E1 = 0.0\n",
        "E2 = e\n",
        "psi2 = solve(E1)\n",
        "\n",
        "target = e/1000\n",
        "while abs(E1-E2) > target:\n",
        "    psi1, psi2 = psi2, solve(E2)\n",
        "    E1, E2 = E2, E2-psi2*(E2-E1)/(psi2-psi1)\n",
        "\n",
        "print(\"E =\", E2/e, \"eV\")"
      ],
      "execution_count": null,
      "outputs": [
        {
          "output_type": "stream",
          "name": "stdout",
          "text": [
            "E = 134.28637169369105 eV\n"
          ]
        }
      ]
    }
  ]
}