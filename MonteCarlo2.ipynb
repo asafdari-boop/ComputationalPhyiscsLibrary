{
  "nbformat": 4,
  "nbformat_minor": 0,
  "metadata": {
    "colab": {
      "provenance": [],
      "include_colab_link": true
    },
    "kernelspec": {
      "name": "python3",
      "display_name": "Python 3"
    },
    "language_info": {
      "name": "python"
    }
  },
  "cells": [
    {
      "cell_type": "markdown",
      "metadata": {
        "id": "view-in-github",
        "colab_type": "text"
      },
      "source": [
        "<a href=\"https://colab.research.google.com/github/asafdari-boop/ComputationalPhyiscsLibrary/blob/main/MonteCarlo2.ipynb\" target=\"_parent\"><img src=\"https://colab.research.google.com/assets/colab-badge.svg\" alt=\"Open In Colab\"/></a>"
      ]
    },
    {
      "cell_type": "markdown",
      "metadata": {
        "id": "cllkrfpI4KCK"
      },
      "source": [
        "# Inverse transform sampling"
      ]
    },
    {
      "cell_type": "code",
      "metadata": {
        "id": "Dt9346QW4Nu3",
        "colab": {
          "base_uri": "https://localhost:8080/",
          "height": 265
        },
        "outputId": "f064e0e8-c045-45eb-ae39-baf7f4e537c6"
      },
      "source": [
        "import numpy as np\n",
        "import matplotlib.pyplot as plt\n",
        "\n",
        "N=100000\n",
        "lambd = 0.5\n",
        "\n",
        "# an exponential function\n",
        "def func_exp(x, lambd):\n",
        "  return lambd*np.exp(-lambd*x)\n",
        "\n",
        "# inverse of an exponential function\n",
        "def func_invexp(x, lambd):\n",
        "  return -np.log(1-x)/lambd\n",
        "\n",
        "Xrand = np.random.random(N)\n",
        "Y_exp = func_invexp(Xrand, lambd)   \n",
        "\n",
        "plt.hist(Y_exp, bins=100, density=True)\n",
        "plt.show()"
      ],
      "execution_count": null,
      "outputs": [
        {
          "output_type": "display_data",
          "data": {
            "image/png": "[encoded data removed]",
            "text/plain": [
              "<Figure size 432x288 with 1 Axes>"
            ]
          },
          "metadata": {
            "needs_background": "light"
          }
        }
      ]
    },
    {
      "cell_type": "markdown",
      "metadata": {
        "id": "4j-fqvT64TQj"
      },
      "source": [
        "# Box Muller Gaussian sampling"
      ]
    },
    {
      "cell_type": "code",
      "metadata": {
        "id": "E4HakB0z4Yv3",
        "colab": {
          "base_uri": "https://localhost:8080/",
          "height": 279
        },
        "outputId": "b58ce738-b422-45d3-9d24-1b85bbb6fd2c"
      },
      "source": [
        "import numpy as np\n",
        "import matplotlib.pyplot as plt\n",
        "\n",
        "N=100000\n",
        "sigma = 3.\n",
        "\n",
        "def func(x):\n",
        "  return np.sqrt(-2*sigma*sigma*np.log(1-x))\n",
        "\n",
        "xi_rand = np.random.random(N)\n",
        "r = func(xi_rand)\n",
        "\n",
        "theta = np.random.random(N)*2*np.pi\n",
        "x = r*np.cos(theta)\n",
        "y = r*np.sin(theta)\n",
        "\n",
        "plt.figure(1)\n",
        "plt.subplot(221)\n",
        "plt.hist(r, bins=200, density=True)\n",
        "plt.xlabel(\"r\")\n",
        "plt.subplot(222)\n",
        "plt.hist(theta, bins=200, density=True)\n",
        "plt.xlabel(\"theta\")\n",
        "\n",
        "plt.subplot(223)\n",
        "plt.hist(x, bins=200, density=True)\n",
        "plt.xlabel(\"X\")\n",
        "plt.subplot(224)\n",
        "plt.hist(y, bins=200, density=True)\n",
        "plt.xlabel(\"Y\")\n",
        "plt.show()"
      ],
      "execution_count": null,
      "outputs": [
        {
          "output_type": "display_data",
          "data": {
            "image/png": "[encoded data removed]",
            "text/plain": [
              "<Figure size 432x288 with 4 Axes>"
            ]
          },
          "metadata": {
            "needs_background": "light"
          }
        }
      ]
    },
    {
      "cell_type": "markdown",
      "metadata": {
        "id": "2bNR_si85viL"
      },
      "source": [
        "# Rutherford scattering\n",
        "\n",
        "A beam of 1 million alpha particles hiting a nucleus and calculate the fraction of particles that bounce back on scattering, i.e., that scatter through angles greater than 90 degree. \n",
        "\n",
        "Define $b=\\frac{Ze^2}{2\\pi\\epsilon_0E}$ and if $b$ is less than this value then the particle bounces back."
      ]
    },
    {
      "cell_type": "code",
      "metadata": {
        "id": "zgc6CMz25w-D",
        "colab": {
          "base_uri": "https://localhost:8080/"
        },
        "outputId": "15b3a333-eafb-4dfb-aa6e-26ce30d8f449"
      },
      "source": [
        "from math import sqrt,log,cos,sin,pi\n",
        "from random import random\n",
        "\n",
        "# Constants\n",
        "Z = 79\n",
        "e = 1.602e-19\n",
        "E = 7.7e6*e\n",
        "epsilon0 = 8.854e-12\n",
        "a0 = 5.292e-11\n",
        "sigma = a0/100\n",
        "N = 1000000\n",
        "\n",
        "# Function to generate two Gaussian random numbers\n",
        "def gaussian():\n",
        "    r = sqrt(-2*sigma*sigma*log(1-random()))\n",
        "    theta = 2*pi*random()\n",
        "    x = r*cos(theta)\n",
        "    y = r*sin(theta)\n",
        "    return x,y\n",
        "\n",
        "# Main program\n",
        "count = 0\n",
        "for i in range(N):\n",
        "    x,y = gaussian()\n",
        "    b = sqrt(x*x+y*y)\n",
        "    if b<Z*e*e/(2*pi*epsilon0*E):\n",
        "        count += 1\n",
        "\n",
        "print(count,\"particles were reflected out of\",N)"
      ],
      "execution_count": null,
      "outputs": [
        {
          "output_type": "stream",
          "name": "stdout",
          "text": [
            "1614 particles were reflected out of 1000000\n"
          ]
        }
      ]
    },
    {
      "cell_type": "markdown",
      "metadata": {
        "id": "wYOexZ3t4fjj"
      },
      "source": [
        "# Acceptance rejection sampling (hit-or-miss)"
      ]
    },
    {
      "cell_type": "code",
      "source": [
        "import numpy as np\n",
        "import matplotlib.pyplot as plt\n",
        "import numpy.random as rnd\n",
        "\n",
        "x = np.linspace(1,10,100)\n",
        "y = 15*np.sin(x) + (x-5)**2\n",
        "\n",
        "plt.subplot(211)\n",
        "plt.plot(x, y)\n",
        "plt.show()\n",
        "\n",
        "randNum=[]\n",
        "N = 300000\n",
        "for i in range(N):\n",
        "  r = rnd.random()\n",
        "  x_value = 1 + (10-1)*rnd.random()   # generate a random number between the range 1 and 10\n",
        "\n",
        "  # add 20 to make sure the value is positive, then divided by the maximum value after adding 20 to make the ratio value between 0 and 1\n",
        "  ratio = (15*np.sin(x_value) + (x_value-5)**2 + 20)/50   \n",
        "  if(r < ratio):\n",
        "    randNum.append(x_value)\n",
        "\n",
        "plt.subplot(212)\n",
        "plt.hist(randNum, bins=100, color='g')\n",
        "plt.show()\n",
        "\n",
        "print(\"Eff = \", len(randNum)/N)"
      ],
      "metadata": {
        "colab": {
          "base_uri": "https://localhost:8080/",
          "height": 295
        },
        "id": "ld0YL9JEQndB",
        "outputId": "68b7d79c-eba1-4d6b-d630-8eb09d21b020"
      },
      "execution_count": null,
      "outputs": [
        {
          "output_type": "display_data",
          "data": {
            "text/plain": [
              "<Figure size 432x288 with 1 Axes>"
            ],
            "image/png": "[encoded data removed]"
          },
          "metadata": {
            "needs_background": "light"
          }
        },
        {
          "output_type": "display_data",
          "data": {
            "text/plain": [
              "<Figure size 432x288 with 1 Axes>"
            ],
            "image/png": "[encoded data removed]"
          },
          "metadata": {
            "needs_background": "light"
          }
        },
        {
          "output_type": "stream",
          "name": "stdout",
          "text": [
            "Eff =  0.5855066666666666\n"
          ]
        }
      ]
    },
    {
      "cell_type": "code",
      "metadata": {
        "id": "A6yqXpXq4jLd",
        "colab": {
          "base_uri": "https://localhost:8080/",
          "height": 265
        },
        "outputId": "a5c0851d-223f-417b-80f0-c4620373b557"
      },
      "source": [
        "import numpy as np\n",
        "import matplotlib.pyplot as plt\n",
        "\n",
        "N=100000\n",
        "mu = 0.\n",
        "sigma = 0.5\n",
        "\n",
        "x = []\n",
        "gauss = []\n",
        "for i in range(N):\n",
        "    x_value = 8*np.random.random()-4    # a random number between -4 and 4\n",
        "    gauss_value = np.exp(-(x_value - mu)**2 / (2 * sigma**2))    \n",
        "\n",
        "    x.append(x_value)\n",
        "\n",
        "    r = np.random.random()\n",
        "\n",
        "    ratio = gauss_value/1.\n",
        "    if r < ratio:\n",
        "        gauss.append(x_value)\n",
        "\n",
        "plt.figure(1)\n",
        "plt.subplot(211)\n",
        "plt.hist(x, bins=100, facecolor='r')\n",
        "plt.xlim(-4, 4)\n",
        "\n",
        "plt.subplot(212)\n",
        "plt.hist(gauss, bins=100, facecolor='g')\n",
        "plt.xlim(-4, 4)\n",
        "plt.show()"
      ],
      "execution_count": null,
      "outputs": [
        {
          "output_type": "display_data",
          "data": {
            "image/png": "[encoded data removed]",
            "text/plain": [
              "<Figure size 432x288 with 2 Axes>"
            ]
          },
          "metadata": {
            "needs_background": "light"
          }
        }
      ]
    },
    {
      "cell_type": "code",
      "metadata": {
        "id": "mSUuGz164pxj",
        "colab": {
          "base_uri": "https://localhost:8080/",
          "height": 428
        },
        "outputId": "10c0bdff-fa33-4aed-be06-f4cf2a8f40af"
      },
      "source": [
        "import random as rnd\n",
        "import math as M\n",
        "import matplotlib.pyplot as plt\n",
        "import numpy as np\n",
        "\n",
        "# parameters for a gaussian distribution\n",
        "mu, sig = 2.0, 3.\n",
        "\n",
        "# distribution we want to sample\n",
        "def f(x):\n",
        "    return 0.2 * M.exp(-(x - 0.2)**2.0) + 0.8 * M.exp(-(x - 2.0)**2.0 / 0.2)\n",
        "f2 = np.vectorize(f)\n",
        "\n",
        "def g(x):\n",
        "    return np.exp(-np.power(x - mu, 2.) / (2 * np.power(sig, 2.)))\n",
        "g2 = np.vectorize(g)\n",
        "\n",
        "# hit or miss\n",
        "def sample_f():\n",
        "    Stop = False\n",
        "    x_sampling = 0.\n",
        "    while not Stop:\n",
        "        x_rand = rnd.gauss(mu, sig) # Generate x_rand according to a known distribution g(x) here\n",
        "        u = rnd.random() # y = u * g(x_rand)\n",
        "        if(f(x_rand)/g(x_rand)>=1.):\n",
        "          print(\"For this point, you have f >= g, which should be avoid, please choose a different g(x) function to make sure f(x)<g(x) over the x range of interest\")\n",
        "        if u <= f(x_rand) / g(x_rand):  # y <= f(x_rand)\n",
        "            Stop = True\n",
        "            x_sampling = x_rand\n",
        "    return x_sampling\n",
        "\n",
        "plt.figure(figsize=(7, 7))\n",
        "plt.subplot(311)\n",
        "x = np.linspace(0, 4, 100)\n",
        "y = f2(x)\n",
        "plt.xlim(0, 4.)\n",
        "plt.plot(x, y)\n",
        "\n",
        "plt.subplot(312)\n",
        "x = np.linspace(0, 4, 100)\n",
        "z = g2(x)\n",
        "plt.xlim(0, 4.)\n",
        "plt.plot(x, z)\n",
        "\n",
        "# plot a distribution with given weights\n",
        "plt.subplot(313)\n",
        "samples = []\n",
        "for i in range(100000):\n",
        "    x_sampling_f = sample_f()\n",
        "    samples.append(x_sampling_f)\n",
        "\n",
        "plt.hist(samples, bins=200, facecolor='g')\n",
        "plt.xlim(0, 4.)\n",
        "plt.show()"
      ],
      "execution_count": null,
      "outputs": [
        {
          "output_type": "display_data",
          "data": {
            "text/plain": [
              "<Figure size 504x504 with 3 Axes>"
            ],
            "image/png": "[encoded data removed]"
          },
          "metadata": {
            "needs_background": "light"
          }
        }
      ]
    },
    {
      "cell_type": "markdown",
      "metadata": {
        "id": "1_JDLuoJ4vcn"
      },
      "source": [
        "# Histogram weights"
      ]
    },
    {
      "cell_type": "code",
      "metadata": {
        "id": "KDAsWDEY4xsT",
        "colab": {
          "base_uri": "https://localhost:8080/",
          "height": 265
        },
        "outputId": "9ba1be06-eabf-45eb-d75d-04643392ac40"
      },
      "source": [
        "import numpy as np\n",
        "import matplotlib.pyplot as plt\n",
        "\n",
        "# Fixing random state for reproducibility\n",
        "np.random.seed(19680801)\n",
        "\n",
        "# plot a random number distribution between -4 and 4\n",
        "plt.subplot(211)\n",
        "y = 8*np.random.random(100000)-4\n",
        "plt.hist(y, bins=100, facecolor='g')\n",
        "\n",
        "# plot a distribution with given weights\n",
        "plt.subplot(212)\n",
        "mu = 2.\n",
        "sigma = 0.5\n",
        "wt = np.exp(-(y - mu)**2 / (2 * sigma**2))\n",
        "plt.hist(y, bins=100, facecolor='g', weights=wt)\n",
        "\n",
        "# show the distribution\n",
        "plt.show()"
      ],
      "execution_count": null,
      "outputs": [
        {
          "output_type": "display_data",
          "data": {
            "image/png": "[encoded data removed]",
            "text/plain": [
              "<Figure size 432x288 with 2 Axes>"
            ]
          },
          "metadata": {
            "needs_background": "light"
          }
        }
      ]
    },
    {
      "cell_type": "markdown",
      "source": [
        "*apply mass-dependent efficiency on particle detection*\n",
        "Assume that our detector has a detection efficiency that depends on the mass of the particle, if the particle mass is $<20$, then the efficiency is $\\epsilon = 0.002 \\times m$; however, if the mass is $>20$, the efficiency becomes $\\epsilon = 0.01 \\times m$. Assume the particle's mass has a gaussian distribution centered at 20 with a width of 3"
      ],
      "metadata": {
        "id": "I3NSo71aihdq"
      }
    },
    {
      "cell_type": "code",
      "source": [
        "import numpy as np\n",
        "import matplotlib.pyplot as plt\n",
        "\n",
        "# random numbers with gaussian distribution\n",
        "N = 100000\n",
        "mu = 20.\n",
        "sigma = 3.\n",
        "\n",
        "# mass-dependent detection efficiency for a particle\n",
        "def eff(m):\n",
        "  eff = 0.\n",
        "  if m<20.:\n",
        "    eff = 0.002*m\n",
        "  else:\n",
        "    eff = 0.01*m\n",
        "  return eff\n",
        "\n",
        "Mass = []\n",
        "Mass_detected = []\n",
        "for i in range(N):\n",
        "  mass_event = np.random.normal(mu, sigma)\n",
        "  Mass.append(mass_event)\n",
        "\n",
        "  # apply mass-dependent efficiency\n",
        "  eff_rand = np.random.random()\n",
        "  if(eff_rand < eff(mass_event)):\n",
        "    Mass_detected.append(mass_event)\n",
        "\n",
        "# plot of the particle's mass before the detection\n",
        "plt.subplot(211)\n",
        "plt.hist(Mass, bins=100, facecolor='g')\n",
        "plt.show()\n",
        "\n",
        "# plot of the particle's mass after the detection\n",
        "plt.subplot(212)\n",
        "plt.hist(Mass_detected, bins=100, facecolor='g')\n",
        "plt.show()"
      ],
      "metadata": {
        "colab": {
          "base_uri": "https://localhost:8080/",
          "height": 277
        },
        "id": "-0TcRqK3fJdj",
        "outputId": "6a437596-4200-4557-ebf8-26d530d63bdb"
      },
      "execution_count": null,
      "outputs": [
        {
          "output_type": "display_data",
          "data": {
            "text/plain": [
              "<Figure size 432x288 with 1 Axes>"
            ],
            "image/png": "[encoded data removed]"
          },
          "metadata": {
            "needs_background": "light"
          }
        },
        {
          "output_type": "display_data",
          "data": {
            "text/plain": [
              "<Figure size 432x288 with 1 Axes>"
            ],
            "image/png": "[encoded data removed]"
          },
          "metadata": {
            "needs_background": "light"
          }
        }
      ]
    },
    {
      "cell_type": "markdown",
      "metadata": {
        "id": "L8kDJGeo52y0"
      },
      "source": [
        "# MC integration\n",
        "\n",
        "Like the $\\pi$ calculation using the MC method, we can also find the maximum value of the function in the whole range, and throw points randomly and see how often it lies under the curve"
      ]
    },
    {
      "cell_type": "code",
      "metadata": {
        "id": "B1Yf48YWrVH-",
        "colab": {
          "base_uri": "https://localhost:8080/",
          "height": 282
        },
        "outputId": "bcca85be-5210-4cec-dcce-546e1460ee6c"
      },
      "source": [
        "from math import sin\n",
        "from random import random\n",
        "import matplotlib.pyplot as plt\n",
        "\n",
        "def f(x):\n",
        "  return (sin(1/(x*(2-x))))**2\n",
        "f2=np.vectorize(f)\n",
        "\n",
        "xpoints = np.arange(0.001, 1.9999, 0.0001)\n",
        "plt.plot(xpoints, f2(xpoints))\n",
        "plt.show()\n",
        "\n",
        "# use MC method\n",
        "N = 10000\n",
        "count = 0\n",
        "\n",
        "# we can find the maximum value is 1 for the whole range\n",
        "# so we can throw random numbers to the box area 0<x<2 and 0<y<1\n",
        "for i in range(N):\n",
        "  xp = 2*random()\n",
        "  r = random()\n",
        "  if r < f(xp):\n",
        "    count += 1\n",
        "\n",
        "I = 2*count/N\n",
        "print(\"Integral = \", I)"
      ],
      "execution_count": null,
      "outputs": [
        {
          "output_type": "display_data",
          "data": {
            "image/png": "[encoded data removed]",
            "text/plain": [
              "<Figure size 432x288 with 1 Axes>"
            ]
          },
          "metadata": {
            "needs_background": "light"
          }
        },
        {
          "output_type": "stream",
          "name": "stdout",
          "text": [
            "Integral =  1.4516\n"
          ]
        }
      ]
    },
    {
      "cell_type": "markdown",
      "metadata": {
        "id": "W-v2wbpG5_tY"
      },
      "source": [
        "**Mean value method (easily extendable to multiple integrals)**\n",
        "\n",
        "$I = \\int_a^b \\int_c^d f(x, y) dx dy = (b-a)*(d-c)*\\frac{1}{N} \\sum_{k=1}^{N} f(x_k, y_k)$ where $x_k, y_k$ are randomly-chosen points within the region with $a<x<b$ and $c<y<d$. This method can be extended to higher dimensions.\n",
        "\n",
        "![](https://drive.google.com/uc?export=view&id=1F40VuDIRKw5kfmW6slFOcRJnPaH9dkAs)\n"
      ]
    },
    {
      "cell_type": "code",
      "metadata": {
        "id": "KrTG3SlA6BOg",
        "colab": {
          "base_uri": "https://localhost:8080/"
        },
        "outputId": "b9942b37-e34d-4ea4-e019-5716941578f7"
      },
      "source": [
        "import numpy as np\n",
        "\n",
        "ax, bx = 0, 2\n",
        "ay, by = 0, 4\n",
        "\n",
        "def f(x, y):\n",
        "    return (x + y)**2\n",
        "    \n",
        "N=400000\n",
        "rx = (bx-ax)*np.random.random(N)\n",
        "ry = (by-ay)*np.random.random(N)\n",
        "values = f(rx, ry)\n",
        "\n",
        "sum = np.sum(values)\n",
        "\n",
        "integral = (bx-ax)*(by-ay)*sum*(1./N)\n",
        "print(\"Integral = \", integral)"
      ],
      "execution_count": null,
      "outputs": [
        {
          "output_type": "stream",
          "name": "stdout",
          "text": [
            "Integral =  85.3541837368095\n"
          ]
        }
      ]
    },
    {
      "cell_type": "code",
      "metadata": {
        "colab": {
          "base_uri": "https://localhost:8080/",
          "height": 541
        },
        "id": "MHfjsF3Y7Hum",
        "outputId": "2a2427b4-8cde-47dd-abc6-c87297093046"
      },
      "source": [
        "import numpy as np\n",
        "from random import random\n",
        "from matplotlib import pyplot as plt\n",
        "\n",
        "# integrate this function from 0 to 2\n",
        "def f(x):\n",
        "  return (np.sin(x/(x*(2-x)*(3-x))))**3\n",
        "\n",
        "epsilon = 1e-6\n",
        "xmin, xmax = epsilon, 2-epsilon\n",
        "N = 50000\n",
        "\n",
        "xpoints = np.linspace(xmin, xmax, 300)\n",
        "ypoints = f(xpoints)\n",
        "\n",
        "xlist = []\n",
        "ylist=[]\n",
        "count = 0\n",
        "\n",
        "for i in range(N):\n",
        "  randx = 2*random()\n",
        "  randy = random()\n",
        "  if (randy < f(randx)):\n",
        "    count = count + 1\n",
        "  ylist.append(2*count/(i+1))\n",
        "  xlist.append(i+1)\n",
        "\n",
        "plt.figure()\n",
        "plt.scatter(xpoints, ypoints, color='b')\n",
        "plt.xlabel(\"x\")\n",
        "plt.ylabel(\"f(x)\")\n",
        "plt.show()\n",
        "\n",
        "plt.figure()\n",
        "plt.scatter(xlist, ylist, color='b')\n",
        "plt.xlabel(\"Number of points used\")\n",
        "plt.ylabel(\"Estimated integral\")\n",
        "plt.show()"
      ],
      "execution_count": null,
      "outputs": [
        {
          "output_type": "display_data",
          "data": {
            "text/plain": [
              "<Figure size 432x288 with 1 Axes>"
            ],
            "image/png": "[encoded data removed]"
          },
          "metadata": {
            "needs_background": "light"
          }
        },
        {
          "output_type": "display_data",
          "data": {
            "text/plain": [
              "<Figure size 432x288 with 1 Axes>"
            ],
            "image/png": "[encoded data removed]"
          },
          "metadata": {
            "needs_background": "light"
          }
        }
      ]
    },
    {
      "cell_type": "markdown",
      "metadata": {
        "id": "LgEcz6ckpQjE"
      },
      "source": [
        "# Importance sampling\n",
        "\n",
        "Will be more efficient if we can start from a distribution that is close to the one we want to sample \n"
      ]
    },
    {
      "cell_type": "markdown",
      "source": [
        "### Use the MC method to figure fraction of events with x>3 for a normal distribution (real value should be 0.0013499)."
      ],
      "metadata": {
        "id": "QojWlzQF37vB"
      }
    },
    {
      "cell_type": "code",
      "metadata": {
        "id": "oDeFlNlY6Qbg",
        "colab": {
          "base_uri": "https://localhost:8080/"
        },
        "outputId": "31fcb825-6140-47ec-c5f8-117c831084c5"
      },
      "source": [
        "import numpy as np\n",
        "\n",
        "# define a gaussian distribution\n",
        "def gaus(x, mu, sigma):\n",
        "  return 1/(np.sqrt(2*np.pi)*sigma)*np.exp(-(x-mu)*(x-mu)/(2*sigma*sigma))\n",
        "\n",
        "# get a gaussian distribution with mu=0 and sigma=1\n",
        "def f(x):\n",
        "  return gaus(x, 0., 1.)\n",
        "\n",
        "# shift another gaussian distribution close to 3 and sample that function\n",
        "# define a gaussian distribution with mu=4 and sigma=1\n",
        "def g(x):\n",
        "  return gaus(x, 4., 1.)\n",
        "\n",
        "def h(x):\n",
        "  return x>3\n",
        "\n",
        "N = 1000000\n",
        "\n",
        "print(\"The truth integral is 0.0013499\")\n",
        "\n",
        "# normal MC method\n",
        "X = np.random.normal(0., 1., N)\n",
        "ind_below = np.where(X > 3.)\n",
        "print(\"If we use the normal mean value method, integral = \", len(ind_below[0])/N)\n",
        "\n",
        "# use the importance sampling method \n",
        "# and use another gaussian distribution with \n",
        "# the mean value shifted to 4 to sample the original gaussian function\n",
        "Y = np.random.normal(4, 1, N)\n",
        "sum = np.sum(h(Y)*f(Y)/g(Y))   # the area is normalized to 1 for the new gaussian distribution\n",
        "print(\"Use the importance sampling method, integral = \", sum/N)"
      ],
      "execution_count": null,
      "outputs": [
        {
          "output_type": "stream",
          "name": "stdout",
          "text": [
            "The truth integral is 0.0013499\n",
            "If we use the normal mean value method, integral =  0.001357\n",
            "Use the importance sampling method, integral =  0.0013481489362915011\n"
          ]
        }
      ]
    },
    {
      "cell_type": "markdown",
      "source": [
        "### another example to use the importance sampling for the integral calculation\n",
        "\n",
        "Since the chosen omega(x) has a similar shape as f(x) and is always bigger than f(x) at every point, can also use the acceptance-rejection method (more efficient than choosing the maximum for the normalization)"
      ],
      "metadata": {
        "id": "pDUYVV4_ucMo"
      }
    },
    {
      "cell_type": "code",
      "source": [
        "import numpy as np\n",
        "import matplotlib.pyplot as plt\n",
        "import scipy.integrate as integrate\n",
        "\n",
        "def f(x):\n",
        "  return (1-8*x+40*x**2-64*x**3+32*x**4)/(2*x**(1/2))\n",
        "\n",
        "def omega(x):\n",
        "  return x**(-1/2)/2\n",
        "\n",
        "def g(x):\n",
        "  return 1-8*x+40*x**2-64*x**3+32*x**4\n",
        "\n",
        "# inverse of the omega function\n",
        "def inv_omega(x):\n",
        "  return x**2\n",
        "\n",
        "I_scipy = integrate.quad(f, 0, 1.)\n",
        "print(\"Integral from scipy = \", I_scipy)\n",
        "\n",
        "# plot the function f\n",
        "plt.figure(211)\n",
        "x = np.linspace(0,1,100)    \n",
        "y = f(x)\n",
        "y_omega = omega(x)\n",
        "plt.plot(x, y)\n",
        "plt.plot(x, y_omega)\n",
        "\n",
        "# generate random numbers following the omega(x) distribution using the inverse transform sampling method, the normalization is 1/2\n",
        "plt.figure(212)\n",
        "N = 1000000\n",
        "x_rand = np.random.random(N)\n",
        "omega_inv = inv_omega(x_rand)\n",
        "plt.hist(omega_inv, bins=100)\n",
        "\n",
        "I = np.sum(g(omega_inv))/N\n",
        "print(\"Integral = \", I)\n",
        "plt.show()"
      ],
      "metadata": {
        "colab": {
          "base_uri": "https://localhost:8080/",
          "height": 617
        },
        "id": "KaFHRQkH7HtK",
        "outputId": "ccf097f1-36b5-4b72-9f14-94a9e7dd6b32"
      },
      "execution_count": null,
      "outputs": [
        {
          "output_type": "stream",
          "name": "stdout",
          "text": [
            "Integral from scipy =  (0.7460317460317434, 2.425232681346756e-09)\n"
          ]
        },
        {
          "output_type": "stream",
          "name": "stderr",
          "text": [
            "/usr/local/lib/python3.7/dist-packages/ipykernel_launcher.py:6: RuntimeWarning: divide by zero encountered in true_divide\n",
            "  \n",
            "/usr/local/lib/python3.7/dist-packages/ipykernel_launcher.py:9: RuntimeWarning: divide by zero encountered in power\n",
            "  if __name__ == '__main__':\n"
          ]
        },
        {
          "output_type": "stream",
          "name": "stdout",
          "text": [
            "Integral =  0.7458091189363455\n"
          ]
        },
        {
          "output_type": "display_data",
          "data": {
            "text/plain": [
              "<Figure size 432x288 with 1 Axes>"
            ],
            "image/png": "[encoded data removed]"
          },
          "metadata": {
            "needs_background": "light"
          }
        },
        {
          "output_type": "display_data",
          "data": {
            "text/plain": [
              "<Figure size 432x288 with 1 Axes>"
            ],
            "image/png": "[encoded data removed]"
          },
          "metadata": {
            "needs_background": "light"
          }
        }
      ]
    }
  ]
}