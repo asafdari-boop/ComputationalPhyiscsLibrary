{
  "nbformat": 4,
  "nbformat_minor": 0,
  "metadata": {
    "colab": {
      "provenance": [],
      "include_colab_link": true
    },
    "kernelspec": {
      "name": "python3",
      "display_name": "Python 3"
    },
    "language_info": {
      "name": "python"
    }
  },
  "cells": [
    {
      "cell_type": "markdown",
      "metadata": {
        "id": "view-in-github",
        "colab_type": "text"
      },
      "source": [
        "<a href=\"https://colab.research.google.com/github/asafdari-boop/ComputationalPhyiscsLibrary/blob/main/PDE.ipynb\" target=\"_parent\"><img src=\"https://colab.research.google.com/assets/colab-badge.svg\" alt=\"Open In Colab\"/></a>"
      ]
    },
    {
      "cell_type": "markdown",
      "metadata": {
        "id": "-jPlCBx5KAwT"
      },
      "source": [
        "# Boundary value problems and the relaxation method\n",
        "\n",
        "### Solution of Laplace's equation\n",
        "\n",
        "$\\frac{\\partial^2 \\phi}{\\partial x^2} +  \\frac{\\partial^2 \\phi}{\\partial y^2} = 0$"
      ]
    },
    {
      "cell_type": "code",
      "metadata": {
        "id": "ft-gxCxbzZvd",
        "colab": {
          "base_uri": "https://localhost:8080/",
          "height": 268
        },
        "outputId": "f9576dd2-5567-4078-b46e-2f5421890394"
      },
      "source": [
        "from numpy import empty,zeros,max\n",
        "from pylab import imshow,gray,show\n",
        "\n",
        "# Constants\n",
        "M = 100         # Grid squares on a side\n",
        "V = 1.0         # Voltage at top wall\n",
        "target = 1e-3   # Target accuracy\n",
        "\n",
        "# use two arrays to store the potential values\n",
        "def Laplace():\n",
        "    phi = zeros([M+1, M+1], float)\n",
        "    phi[0,:] = V\n",
        "    phiprime = zeros([M+1, M+1], float)\n",
        "\n",
        "    # Main loop\n",
        "    delta = 1.0\n",
        "\n",
        "    while delta > target:\n",
        "        # Calculate new values of the potential\n",
        "        for i in range(M+1):\n",
        "            for j in range(M+1):\n",
        "                if i==0 or i==M or j==0 or j==M:\n",
        "                    phiprime[i,j] = phi[i,j]\n",
        "                else:\n",
        "                    phiprime[i,j] = (phi[i+1,j] + phi[i-1,j] + phi[i,j+1] + phi[i,j-1])/4\n",
        "\n",
        "        # Calculate maximum difference from old values\n",
        "        delta = max(abs(phi - phiprime))\n",
        "\n",
        "        # Swap the two arrays around\n",
        "        phi,phiprime = phiprime, phi\n",
        "\n",
        "    # Make a plot\n",
        "    imshow(phi)\n",
        "    gray()\n",
        "    show()\n",
        "\n",
        "if __name__==\"__main__\":\n",
        "    Laplace()"
      ],
      "execution_count": null,
      "outputs": [
        {
          "output_type": "display_data",
          "data": {
            "text/plain": [
              "<Figure size 432x288 with 1 Axes>"
            ],
            "image/png": "[encoded data removed]"
          },
          "metadata": {
            "needs_background": "light"
          }
        }
      ]
    },
    {
      "cell_type": "markdown",
      "metadata": {
        "id": "SK36Lk0qKOAa"
      },
      "source": [
        "### Solution of the Poisson equation\n",
        "\n",
        "$\\frac{\\partial^2 \\phi}{\\partial x^2} +  \\frac{\\partial^2 \\phi}{\\partial y^2} = -\\frac{\\rho}{\\epsilon_0}$\n",
        "\n",
        "Three methods considered: (1) normal relaxation method; (2) Gauss-Seidel method without the overrelaxation; (3) Guass-Seidel method with the overrelaxation. "
      ]
    },
    {
      "cell_type": "code",
      "metadata": {
        "id": "Rl5Beak90GLK",
        "colab": {
          "base_uri": "https://localhost:8080/",
          "height": 501
        },
        "outputId": "49af9d15-f7f3-4ea0-f2e1-0b963b71bed1"
      },
      "source": [
        "from numpy import empty,zeros,max\n",
        "from pylab import imshow,gray,show\n",
        "import timeit\n",
        "\n",
        "# Constants\n",
        "M = 100 # Grid squares on a side\n",
        "target = 1e-2 # Target accuracy\n",
        "rho0 = 1 # Charge density (C/m**2)\n",
        "leng = 14 # Length of square charge (cm)\n",
        "pX, pY= 70 , 50 # Positive charge center coord\n",
        "nX, nY = 30 , 50 # Negative charge center coord\n",
        "\n",
        "# creat arrays to hold potential values\n",
        "phi = zeros([M+1,M+1] , float)\n",
        "phiprime = empty ([M+1,M+1], float)\n",
        "\n",
        "# Create array to hold values of charge density\n",
        "rho = zeros([M+1,M+1] , float)\n",
        "rho[pX-int(leng/2):pX+int(leng/2), pY-int(leng/2):pY+int(leng/2)] = rho0\n",
        "rho[nX-int(leng/2):nX+int(leng/2), nY-int(leng/2):nY+int(leng/2)] = -rho0\n",
        "\n",
        "# normal relaxation method for the Poisson problem\n",
        "def Poisson(phi, phiprime, M, target):\n",
        "    # creat arrays to hold potential values\n",
        "    phi = zeros([M+1,M+1] , float)\n",
        "    phiprime = empty ([M+1,M+1], float)\n",
        "\n",
        "    # Main loop\n",
        "    delta = 1.0\n",
        "    steps = 0\n",
        "\n",
        "    start = timeit.default_timer()\n",
        "    while delta > target:\n",
        "        # Calculate new values of the potential\n",
        "        for i in range (M+1):\n",
        "            for j in range(M+1):\n",
        "                if i==0 or i==M or j==0 or j==M:\n",
        "                    phiprime[i, j] = phi[i, j]\n",
        "                else:\n",
        "                    phiprime[i, j] = (phi[i+1, j] + phi[i-1, j] + phi[i, j+1] + phi[i, j-1])/4 + rho[i, j]/4\n",
        "\n",
        "        # Calculate maximum difference from old values\n",
        "        delta = max(abs(phi - phiprime))\n",
        "\n",
        "        # Swap the two arrays around\n",
        "        phi, phiprime = phiprime, phi\n",
        "\n",
        "        steps += 1\n",
        "\n",
        "    end = timeit.default_timer()\n",
        "    print(\"# of steps used: \", steps)\n",
        "    print(\"Time used: \", end-start)\n",
        "    return phi\n",
        "\n",
        "# Gauss-Seidal and overrelaxation method for the Poisson problem\n",
        "def Poisson_GS_Overrelaxation(phi, M, overrelaxation, target):\n",
        "    # creat arrays to hold potential values\n",
        "    phi = zeros([M+1,M+1] , float)\n",
        "    phiprime = empty ([M+1,M+1], float)\n",
        "\n",
        "    # Main loop\n",
        "    delta = 1.0\n",
        "    steps = 0\n",
        "\n",
        "    omega = 0.  # overrelaxation parameter\n",
        "    if overrelaxation: \n",
        "        omega = 0.9  \n",
        "\n",
        "    start = timeit.default_timer()\n",
        "    while delta > target:\n",
        "        diff_max = 0.\n",
        "        # Calculate new values of the potential and update delta\n",
        "        for i in range (M+1):\n",
        "            for j in range(M+1):\n",
        "                if i==0 or i==M or j==0 or j==M:\n",
        "                    phi[i, j] = phi[i, j]\n",
        "                else:\n",
        "                    phitmp = phi[i, j]\n",
        "                    if overrelaxation == 0:\n",
        "                        # Gauss-Sidel\n",
        "                        phi[i, j] = (phi[i+1, j] + phi[i-1, j] + phi[i, j+1] + phi[i, j-1])/4 + rho[i, j]/4  \n",
        "                    else:\n",
        "                        # Gauss-Sidel plus overrelaxation\n",
        "                        phi[i, j] = (1+omega)*(phi[i+1, j] + phi[i-1, j] + phi[i, j+1] + phi[i, j-1])/4 - omega * phi[i, j]+ rho[i, j]/4\n",
        "                    diff = abs(phi[i, j] - phitmp)\n",
        "                    if(diff > diff_max):\n",
        "                        diff_max = diff\n",
        "        steps += 1\n",
        "        delta = diff_max\n",
        "\n",
        "    end = timeit.default_timer()\n",
        "    print(\"# of steps used: \", steps)\n",
        "    print(\"Time used: \", end-start)\n",
        "    return phi\n",
        "\n",
        "# normal relaxation method\n",
        "print(\"For the normal relaxation method:\")\n",
        "phi_final = Poisson(phi, phiprime, M, target)\n",
        "print(\"\\n\")\n",
        "\n",
        "# Gauss-Siedel with and without overrelaxation\n",
        "print(\"For the Gauss-Siedel method without overrelation:\")\n",
        "phi_final = Poisson_GS_Overrelaxation(phi, M, 0, target)\n",
        "print(\"\\n\")\n",
        "\n",
        "print(\"For the Gauss-Siedel method with overrelation:\")\n",
        "phi_final = Poisson_GS_Overrelaxation(phi, M, 1, target)\n",
        "\n",
        "# Make plot \n",
        "imshow(phi_final)\n",
        "gray()\n",
        "show()"
      ],
      "execution_count": null,
      "outputs": [
        {
          "output_type": "stream",
          "name": "stdout",
          "text": [
            "For the normal relaxation method:\n",
            "# of steps used:  1122\n",
            "Time used:  20.088252315999995\n",
            "\n",
            "\n",
            "For the Gauss-Siedel method without overrelation:\n",
            "# of steps used:  819\n",
            "Time used:  19.296035963999998\n",
            "\n",
            "\n",
            "For the Gauss-Siedel method with overrelation:\n",
            "# of steps used:  141\n",
            "Time used:  3.810246320999994\n"
          ]
        },
        {
          "output_type": "display_data",
          "data": {
            "text/plain": [
              "<Figure size 432x288 with 1 Axes>"
            ],
            "image/png": "[encoded data removed]"
          },
          "metadata": {
            "needs_background": "light"
          }
        }
      ]
    },
    {
      "cell_type": "markdown",
      "metadata": {
        "id": "TDplwW1oKsWL"
      },
      "source": [
        "# Initial value problems and the FTCS method\n",
        "\n",
        "Heat equation:\n",
        "\n",
        "$\\frac{\\partial \\phi}{\\partial t}= D \\frac{\\partial^2 \\phi}{\\partial x^2}$ and the initial condition at $t=0$\n",
        "\n",
        "We have $\\frac{\\partial^2 \\phi}{\\partial x^2}=\\frac{\\phi(x+a, t)+\\phi(x-a, t)-2\\phi(x, t)}{a^2}$ and $\\frac{\\partial\\phi}{\\partial t}=\\frac{D}{a^2} [\\phi(x+a, t)+\\phi(x-a, t)-2\\phi(x, t)]$\n",
        "\n",
        "using the Euler's method we have $\\phi(t+h) = \\phi(t) + hf(x, t)=\\phi(t) + h\\frac{D}{a^2} [\\phi(x+a, t)+\\phi(x-a, t)-2\\phi(x, t)]$"
      ]
    },
    {
      "cell_type": "code",
      "metadata": {
        "id": "6KVvDVwY0NLB",
        "colab": {
          "base_uri": "https://localhost:8080/",
          "height": 297
        },
        "outputId": "275a2e93-eddd-478f-ebbd-381b7f9ee7c9"
      },
      "source": [
        "from numpy import empty\n",
        "from pylab import plot,xlabel,ylabel,show\n",
        "import timeit\n",
        "\n",
        "# Constants\n",
        "L = 0.01      # Thickness of steel in meters\n",
        "D = 4.25e-6   # Thermal diffusivity\n",
        "N = 100       # Number of divisions in grid\n",
        "a = L/N       # Grid spacing\n",
        "h = 1e-4      # Time-step\n",
        "epsilon = h/1000\n",
        "\n",
        "Tlo = 0.0     # Low temperature in Celcius\n",
        "Tmid = 20.0   # Intermediate temperature in Celcius\n",
        "Thi = 50.0    # Hi temperature in Celcius\n",
        "\n",
        "t1 = 0.01\n",
        "t2 = 0.1\n",
        "t3 = 0.4\n",
        "t4 = 1.0\n",
        "t5 = 10.0\n",
        "tend = t5 + epsilon\n",
        "\n",
        "# Create arrays\n",
        "T = zeros(N+1, float)\n",
        "T[0] = Thi\n",
        "T[N] = Tlo\n",
        "T[1:N] = Tmid\n",
        "Tp = zeros(N+1, float)\n",
        "Tp[0] = Thi\n",
        "Tp[N] = Tlo\n",
        "\n",
        "# Main loop\n",
        "t = 0.0\n",
        "c = h*D/(a*a)\n",
        "\n",
        "start = timeit.default_timer()\n",
        "\n",
        "while t < tend:\n",
        "    # Calculate the new values of T\n",
        "    #for i in range(1,N):\n",
        "    #  Tp[i] = T[i] + c*(T[i+1]+T[i-1]-2*T[i])\n",
        "\n",
        "    # or use one array to speed up the calculation\n",
        "    Tp[1:N] = T[1:N] + c*(T[2:N+1] + T[0:N-1] - 2*T[1:N])\n",
        "\n",
        "    T,Tp = Tp,T\n",
        "    t += h\n",
        "\n",
        "    # Make plots at the given times\n",
        "    if abs(t-t1) < epsilon:\n",
        "        plot(T)\n",
        "    if abs(t-t2) < epsilon:\n",
        "        plot(T)\n",
        "    if abs(t-t3) < epsilon:\n",
        "        plot(T)\n",
        "    if abs(t-t4) < epsilon:\n",
        "        plot(T)\n",
        "    if abs(t-t5) < epsilon:\n",
        "        plot(T)\n",
        "\n",
        "end = timeit.default_timer()\n",
        "duration = end - start\n",
        "print(\"The time it takes is: \", duration)\n",
        "\n",
        "xlabel(\"x\")\n",
        "ylabel(\"T\")\n",
        "show()"
      ],
      "execution_count": null,
      "outputs": [
        {
          "output_type": "stream",
          "name": "stdout",
          "text": [
            "The time it takes is:  1.6108810260000155\n"
          ]
        },
        {
          "output_type": "display_data",
          "data": {
            "text/plain": [
              "<Figure size 432x288 with 1 Axes>"
            ],
            "image/png": "[encoded data removed]"
          },
          "metadata": {
            "needs_background": "light"
          }
        }
      ]
    }
  ]
}