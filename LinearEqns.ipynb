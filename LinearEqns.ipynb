{
  "nbformat": 4,
  "nbformat_minor": 0,
  "metadata": {
    "colab": {
      "provenance": [],
      "include_colab_link": true
    },
    "kernelspec": {
      "name": "python3",
      "display_name": "Python 3"
    },
    "language_info": {
      "name": "python"
    }
  },
  "cells": [
    {
      "cell_type": "markdown",
      "metadata": {
        "id": "view-in-github",
        "colab_type": "text"
      },
      "source": [
        "<a href=\"https://colab.research.google.com/github/asafdari-boop/ComputationalPhyiscsLibrary/blob/main/LinearEqns.ipynb\" target=\"_parent\"><img src=\"https://colab.research.google.com/assets/colab-badge.svg\" alt=\"Open In Colab\"/></a>"
      ]
    },
    {
      "cell_type": "markdown",
      "metadata": {
        "id": "g7VF07zydYTs"
      },
      "source": [
        "# Matrix operations"
      ]
    },
    {
      "cell_type": "code",
      "metadata": {
        "id": "uLmXm5O2aDXn",
        "colab": {
          "base_uri": "https://localhost:8080/"
        },
        "outputId": "3f7042e4-3d31-4517-9873-d84df9bfd05c"
      },
      "source": [
        "import numpy as np\n",
        "import pprint as pprint\n",
        "\n",
        "a = np.array([[1, 2], [3, 4]])\n",
        "b = np.array([[11, 12], [13, 14]])\n",
        "pprint.pprint(a)\n",
        "pprint.pprint(b)\n",
        "\n",
        "# array operation\n",
        "c = a*b\n",
        "pprint.pprint(c)\n",
        "\n",
        "d = a@b\n",
        "pprint.pprint(d)"
      ],
      "execution_count": null,
      "outputs": [
        {
          "output_type": "stream",
          "name": "stdout",
          "text": [
            "array([[1, 2],\n",
            "       [3, 4]])\n",
            "array([[11, 12],\n",
            "       [13, 14]])\n",
            "array([[11, 24],\n",
            "       [39, 56]])\n",
            "array([[37, 40],\n",
            "       [85, 92]])\n"
          ]
        }
      ]
    },
    {
      "cell_type": "code",
      "metadata": {
        "id": "Zg-tId7TasP_",
        "colab": {
          "base_uri": "https://localhost:8080/"
        },
        "outputId": "8b140a1d-5f76-4be5-a46e-9a6ebdcd9ec2"
      },
      "source": [
        "# matrix operation\n",
        "e = np.matrix(\"1, 2; 3, 4\")\n",
        "f = np.matrix(\"11, 12; 13, 14\")\n",
        "\n",
        "g = e*f\n",
        "pprint.pprint(g)\n",
        "\n",
        "h = e@f\n",
        "pprint.pprint(h)"
      ],
      "execution_count": null,
      "outputs": [
        {
          "output_type": "stream",
          "name": "stdout",
          "text": [
            "matrix([[37, 40],\n",
            "        [85, 92]])\n",
            "matrix([[37, 40],\n",
            "        [85, 92]])\n"
          ]
        }
      ]
    },
    {
      "cell_type": "code",
      "metadata": {
        "id": "ZDrjcqSgavRK",
        "colab": {
          "base_uri": "https://localhost:8080/"
        },
        "outputId": "76b29d65-a2f0-430d-a086-a32aa7f3e13d"
      },
      "source": [
        "# list to array\n",
        "a = [1, 2, 3, 4]\n",
        "a_array = np.array(a)\n",
        "print(a_array)\n",
        "\n",
        "a_2d_array = np.reshape(a_array, (2, 2))\n",
        "print(a_2d_array)"
      ],
      "execution_count": null,
      "outputs": [
        {
          "output_type": "stream",
          "name": "stdout",
          "text": [
            "[1 2 3 4]\n",
            "[[1 2]\n",
            " [3 4]]\n"
          ]
        }
      ]
    },
    {
      "cell_type": "code",
      "metadata": {
        "id": "4NguHzXha3r3",
        "colab": {
          "base_uri": "https://localhost:8080/"
        },
        "outputId": "ce296b2d-ed51-43df-e792-c30bd5b6ab81"
      },
      "source": [
        "# array to matrix\n",
        "c = np.array([1, 2, 3, 4])\n",
        "d = np.array([2, 3, 4, 5])\n",
        "d_transpose = np.reshape(d, (4, 1))\n",
        "print(c)\n",
        "print(d_transpose)\n",
        "\n",
        "m = np.asmatrix(c)\n",
        "n = np.asmatrix(d_transpose)\n",
        "k = m*n\n",
        "print(k)"
      ],
      "execution_count": null,
      "outputs": [
        {
          "output_type": "stream",
          "name": "stdout",
          "text": [
            "[1 2 3 4]\n",
            "[[2]\n",
            " [3]\n",
            " [4]\n",
            " [5]]\n",
            "[[40]]\n"
          ]
        }
      ]
    },
    {
      "cell_type": "markdown",
      "metadata": {
        "id": "Yg5xwdi0QWpP"
      },
      "source": [
        "#Matrix multiplication"
      ]
    },
    {
      "cell_type": "code",
      "metadata": {
        "id": "N_v4pqOXQZQM",
        "colab": {
          "base_uri": "https://localhost:8080/"
        },
        "outputId": "527dc285-52f5-464c-a32a-5be03778861c"
      },
      "source": [
        "import numpy as np\n",
        "import pprint as pprint\n",
        "\n",
        "# multiply two matrices A*B\n",
        "def matrix_multiply(A, B):    \n",
        "  rowsA, rowsB = len(A), len(B)\n",
        "  colsA, colsB = len(A[0]), len(B[0])\n",
        "  if colsA != rowsB:\n",
        "    raise ArithmeticError('Number of A columns must equal number of B rows.')\n",
        " \n",
        "  C = np.zeros((rowsA, colsB))\n",
        "  for i in range(rowsA):\n",
        "      for j in range(colsB):\n",
        "          total = 0\n",
        "          for k in range(colsA):\n",
        "              total += A[i][k] * B[k][j]\n",
        "          C[i][j] = total\n",
        " \n",
        "  return C\n",
        "\n",
        "A = np.array([[1, 2, 3, 4], [5, 6, 7, 8]])\n",
        "B = np.array([[1], [2], [3], [4]])\n",
        "C = matrix_multiply(A, B)\n",
        "\n",
        "pprint.pprint(C)\n",
        "\n",
        "D = A@B\n",
        "pprint.pprint(D)"
      ],
      "execution_count": null,
      "outputs": [
        {
          "output_type": "stream",
          "name": "stdout",
          "text": [
            "array([[30.],\n",
            "       [70.]])\n",
            "array([[30],\n",
            "       [70]])\n"
          ]
        }
      ]
    },
    {
      "cell_type": "markdown",
      "metadata": {
        "id": "YpSlXWWB6TlO"
      },
      "source": [
        "#Determinant of a matrix using recursion\n",
        "\n",
        "For a $2 \\times 2$ matrix, we have \n",
        "$|A| = \\begin{vmatrix}\n",
        "a & b \\\\\n",
        "c & d\n",
        "\\end{vmatrix}=ad-bc$. \n",
        "\n",
        "For a $3 \\times 3$ matrix, we have:  \n",
        "$|A| = \\begin{vmatrix}\n",
        "a & b & c\\\\\n",
        "d & e & f \\\\\n",
        "g & h & i\n",
        "\\end{vmatrix}=\n",
        "a \\times (-1)^{1+1} \\times \\begin{vmatrix}\n",
        "e & f \\\\\n",
        "h & i\n",
        "\\end{vmatrix} + \n",
        "b \\times (-1)^{1+2} \\times \\begin{vmatrix}\n",
        "d & f \\\\\n",
        "g & i\n",
        "\\end{vmatrix} + \n",
        "c \\times (-1)^{1+3} \\times \\begin{vmatrix}\n",
        "d & e \\\\\n",
        "g & h\n",
        "\\end{vmatrix} \\\\\n",
        "= aei + bfg + cdh - ceg - bdi - afh\n",
        "$"
      ]
    },
    {
      "cell_type": "code",
      "metadata": {
        "id": "okLUJfC36WC9",
        "colab": {
          "base_uri": "https://localhost:8080/"
        },
        "outputId": "8f0640dc-0e55-4c3b-b8a5-eda9c3ffdae2"
      },
      "source": [
        "import numpy as np \n",
        "import pprint as pprint\n",
        "import numpy.linalg as linalg\n",
        "\n",
        "def determinant_recursive(A, total=0):\n",
        "    indices = list(range(len(A)))\n",
        "    \n",
        "    rowsA, colsA = len(A), len(A[0])\n",
        "    if colsA != rowsA:\n",
        "      raise ArithmeticError('A must be a square matrix to calculate the determinant')\n",
        " \n",
        "    # when at 2x2 submatrices recursive calls end\n",
        "    if len(A) == 2 and len(A[0]) == 2:\n",
        "        val = A[0][0] * A[1][1] - A[1][0] * A[0][1]\n",
        "        return val\n",
        " \n",
        "    # define submatrix for each focus column\n",
        "    for fc in indices:\n",
        "        As = A.copy() \n",
        "        As = As[1:]   # remove the first row\n",
        "        height = len(As)\n",
        " \n",
        "        # for each remaining row of submatrix, remove the focus column elements\n",
        "        # so that As now is the matrix with the fc-th column removed\n",
        "        for i in range(height):             \n",
        "            As[i] = As[i][0:fc] + As[i][fc+1:]  # As[i] is a list with the fc-th element removed\n",
        " \n",
        "        # find the sign\n",
        "        sign = (-1) ** (fc % 2)         \n",
        "\n",
        "        # pass submatrix recursively\n",
        "        sub_det = determinant_recursive(As)\n",
        "        \n",
        "        # total all returns from recursion\n",
        "        total += sign * A[0][fc] * sub_det \n",
        "        print(\" Sign: \", sign, \" value: \", A[0][fc], \" submatrix = \", As)        \n",
        "\n",
        "    return total\n",
        "\n",
        "#A = [[1,2,3],[8,5,6],[9,12,10]]\n",
        "A = [[1,2,3, 4],[8,5,6, 7],[9,12,10,14],[13,14,16,15]]\n",
        "\n",
        "pprint.pprint(A)\n",
        "\n",
        "npDet = linalg.det(A)\n",
        "print(\"The Numpy Determinant of A is\", round(npDet,9))\n",
        "\n",
        "Det = determinant_recursive(A)\n",
        "print(\"Determinant of A is\", Det)\n",
        "print()"
      ],
      "execution_count": null,
      "outputs": [
        {
          "output_type": "stream",
          "name": "stdout",
          "text": [
            "[[1, 2, 3, 4], [8, 5, 6, 7], [9, 12, 10, 14], [13, 14, 16, 15]]\n",
            "The Numpy Determinant of A is -459.0\n",
            " Sign:  1  value:  5  submatrix =  [[10, 14], [16, 15]]\n",
            " Sign:  -1  value:  6  submatrix =  [[12, 14], [14, 15]]\n",
            " Sign:  1  value:  7  submatrix =  [[12, 10], [14, 16]]\n",
            " Sign:  1  value:  1  submatrix =  [[5, 6, 7], [12, 10, 14], [14, 16, 15]]\n",
            " Sign:  1  value:  8  submatrix =  [[10, 14], [16, 15]]\n",
            " Sign:  -1  value:  6  submatrix =  [[9, 14], [13, 15]]\n",
            " Sign:  1  value:  7  submatrix =  [[9, 10], [13, 16]]\n",
            " Sign:  -1  value:  2  submatrix =  [[8, 6, 7], [9, 10, 14], [13, 16, 15]]\n",
            " Sign:  1  value:  8  submatrix =  [[12, 14], [14, 15]]\n",
            " Sign:  -1  value:  5  submatrix =  [[9, 14], [13, 15]]\n",
            " Sign:  1  value:  7  submatrix =  [[9, 12], [13, 14]]\n",
            " Sign:  1  value:  3  submatrix =  [[8, 5, 7], [9, 12, 14], [13, 14, 15]]\n",
            " Sign:  1  value:  8  submatrix =  [[12, 10], [14, 16]]\n",
            " Sign:  -1  value:  5  submatrix =  [[9, 10], [13, 16]]\n",
            " Sign:  1  value:  6  submatrix =  [[9, 12], [13, 14]]\n",
            " Sign:  -1  value:  4  submatrix =  [[8, 5, 6], [9, 12, 10], [13, 14, 16]]\n",
            "Determinant of A is -459\n",
            "\n"
          ]
        }
      ]
    },
    {
      "cell_type": "markdown",
      "metadata": {
        "id": "ETkRQLFf8JHU"
      },
      "source": [
        "# Gauss elimination and pivoting"
      ]
    },
    {
      "cell_type": "markdown",
      "metadata": {
        "id": "oCTGZNQDcKx2"
      },
      "source": [
        "**Gauss elimination and backsubstituion**\n",
        "```\n",
        "# divide by the diagonal element\n",
        "div = A[m, m]\n",
        "A[m, :] /= div\n",
        "V[m] /= div\n",
        "    \n",
        "# now subtract from the lower rows\n",
        "for i in range(m+1, n):\n",
        "  mult = A[i, m]\n",
        "  A[i, :] -= mult*A[m, :]\n",
        "  V[i] -= mult*V[m]\n",
        "\n",
        "# backsubstituion\n",
        "x = np.empty(n, float)\n",
        "for m in range(n-1, -1, -1):\n",
        " x[m] = V[m]\n",
        " for i in range(m+1, n):\n",
        "   x[m] -= A[m, i]*x[i]\n",
        "```"
      ]
    },
    {
      "cell_type": "markdown",
      "metadata": {
        "id": "TKpqFvzucUL-"
      },
      "source": [
        "**Pivoting**"
      ]
    },
    {
      "cell_type": "code",
      "metadata": {
        "id": "BxZ-nPmm8oaF"
      },
      "source": [
        "## swap row i and row j for a Matrix M\n",
        "def swapRows(M, i, j):\n",
        "    if M.ndim == 1:\n",
        "        M[i], M[j] = M[j], M[i]\n",
        "    else:\n",
        "        temp = M[i].copy()\n",
        "        M[i] = M[j]\n",
        "        M[j] = temp\n",
        "\n",
        "## swap column i and column j for a Matrix M\n",
        "def swapCols(M, i, j):\n",
        "    temp = M[:, j].copy()\n",
        "    M[:, j] = M[:, i]\n",
        "    M[:, i] = temp"
      ],
      "execution_count": null,
      "outputs": []
    },
    {
      "cell_type": "code",
      "metadata": {
        "id": "7aFVo5w2f48s",
        "colab": {
          "base_uri": "https://localhost:8080/"
        },
        "outputId": "58994d45-72d1-4cdc-86b9-9608db929112"
      },
      "source": [
        "import numpy as np\n",
        "import pprint\n",
        "\n",
        "def gaussPivot(A_matrix, V_matrix, err = 1.0e-9):\n",
        "    A = A_matrix.copy()\n",
        "    V = V_matrix.copy()\n",
        "  \n",
        "    n = len(V)\n",
        "    \n",
        "    # loop over each row\n",
        "    for m in range(n):\n",
        "        print(\"\\n For row: \", m)\n",
        "        # Row interchange, if needed\n",
        "        # argmax returns the indices of the maximum values along an axis for an array\n",
        "        # this array is a subarray of A, it is a column array A[m:n, m], which is the mth column, and the rows go from m to n-1 \n",
        "        # p will be the row with the maximum element\n",
        "        # need to add m for the p calculation to get the absolute row number \n",
        "        p = np.argmax(abs(A[m:n, m])) + m  \n",
        "        print(\"The row with the largest element is : \", p)\n",
        "        if abs(A[p, m]) < err:\n",
        "            print(\"Matrix is singular\")\n",
        "\n",
        "        if p != m:  # swap row p with row k for all relevant (matrices A and V here)\n",
        "            print(f\"Swapping row {p} with row {m} ...\")\n",
        "            swapRows(A, m, p)\n",
        "            swapRows(V, m, p)            \n",
        "\n",
        "        pprint.pprint(A)\n",
        "        pprint.pprint(V)\n",
        "\n",
        "        # Gaussian elimination, divide by the diagonal element\n",
        "        div = A[m, m]\n",
        "        A[m, :] /= div\n",
        "        V[m] /= div\n",
        "    \n",
        "        # now subtract from the lower rows\n",
        "        for i in range(m+1, n):\n",
        "            mult = A[i, m]\n",
        "            A[i, :] -= mult*A[m, :]\n",
        "            V[i] -= mult*V[m]\n",
        "\n",
        "        print(\"After elimination: \")\n",
        "        pprint.pprint(A)\n",
        "        pprint.pprint(V)\n",
        "         \n",
        "    # check the error                    \n",
        "    if abs(A[n-1, n-1]) < err:\n",
        "        print(\"Matrix is singular\")\n",
        "\n",
        "    # backsubstituion\n",
        "    x = np.empty(n, float)\n",
        "    for m in range(n-1, -1, -1):\n",
        "        x[m] = V[m]\n",
        "        for i in range(m+1, n):\n",
        "            x[m] -= A[m, i]*x[i]\n",
        "\n",
        "    # return the values\n",
        "    return x\n",
        "\n",
        "A = np.array([[ 2,  1,  4,  1 ],\n",
        "              [ 3,  4, -1, -1 ],\n",
        "              [ 1, -4,  1,  5 ],\n",
        "              [ 2, -2,  1,  3 ]], float)\n",
        "V = np.array([ -4, 3, 9, 7 ], float)\n",
        "\n",
        "print(\"A:\")\n",
        "pprint.pprint(A)\n",
        "print(\"V:\")\n",
        "pprint.pprint(V)\n",
        "\n",
        "X = gaussPivot(A, V)\n",
        "print(\"X=\")\n",
        "pprint.pprint(X)"
      ],
      "execution_count": null,
      "outputs": [
        {
          "output_type": "stream",
          "name": "stdout",
          "text": [
            "A:\n",
            "array([[ 2.,  1.,  4.,  1.],\n",
            "       [ 3.,  4., -1., -1.],\n",
            "       [ 1., -4.,  1.,  5.],\n",
            "       [ 2., -2.,  1.,  3.]])\n",
            "V:\n",
            "array([-4.,  3.,  9.,  7.])\n",
            "\n",
            " For row:  0\n",
            "The row with the largest element is :  1\n",
            "Swapping row 1 with row 0 ...\n",
            "array([[ 3.,  4., -1., -1.],\n",
            "       [ 2.,  1.,  4.,  1.],\n",
            "       [ 1., -4.,  1.,  5.],\n",
            "       [ 2., -2.,  1.,  3.]])\n",
            "array([ 3., -4.,  9.,  7.])\n",
            "After elimination: \n",
            "array([[ 1.        ,  1.33333333, -0.33333333, -0.33333333],\n",
            "       [ 0.        , -1.66666667,  4.66666667,  1.66666667],\n",
            "       [ 0.        , -5.33333333,  1.33333333,  5.33333333],\n",
            "       [ 0.        , -4.66666667,  1.66666667,  3.66666667]])\n",
            "array([ 1., -6.,  8.,  5.])\n",
            "\n",
            " For row:  1\n",
            "The row with the largest element is :  2\n",
            "Swapping row 2 with row 1 ...\n",
            "array([[ 1.        ,  1.33333333, -0.33333333, -0.33333333],\n",
            "       [ 0.        , -5.33333333,  1.33333333,  5.33333333],\n",
            "       [ 0.        , -1.66666667,  4.66666667,  1.66666667],\n",
            "       [ 0.        , -4.66666667,  1.66666667,  3.66666667]])\n",
            "array([ 1.,  8., -6.,  5.])\n",
            "After elimination: \n",
            "array([[ 1.        ,  1.33333333, -0.33333333, -0.33333333],\n",
            "       [-0.        ,  1.        , -0.25      , -1.        ],\n",
            "       [ 0.        ,  0.        ,  4.25      ,  0.        ],\n",
            "       [ 0.        ,  0.        ,  0.5       , -1.        ]])\n",
            "array([ 1. , -1.5, -8.5, -2. ])\n",
            "\n",
            " For row:  2\n",
            "The row with the largest element is :  2\n",
            "array([[ 1.        ,  1.33333333, -0.33333333, -0.33333333],\n",
            "       [-0.        ,  1.        , -0.25      , -1.        ],\n",
            "       [ 0.        ,  0.        ,  4.25      ,  0.        ],\n",
            "       [ 0.        ,  0.        ,  0.5       , -1.        ]])\n",
            "array([ 1. , -1.5, -8.5, -2. ])\n",
            "After elimination: \n",
            "array([[ 1.        ,  1.33333333, -0.33333333, -0.33333333],\n",
            "       [-0.        ,  1.        , -0.25      , -1.        ],\n",
            "       [ 0.        ,  0.        ,  1.        ,  0.        ],\n",
            "       [ 0.        ,  0.        ,  0.        , -1.        ]])\n",
            "array([ 1. , -1.5, -2. , -1. ])\n",
            "\n",
            " For row:  3\n",
            "The row with the largest element is :  3\n",
            "array([[ 1.        ,  1.33333333, -0.33333333, -0.33333333],\n",
            "       [-0.        ,  1.        , -0.25      , -1.        ],\n",
            "       [ 0.        ,  0.        ,  1.        ,  0.        ],\n",
            "       [ 0.        ,  0.        ,  0.        , -1.        ]])\n",
            "array([ 1. , -1.5, -2. , -1. ])\n",
            "After elimination: \n",
            "array([[ 1.        ,  1.33333333, -0.33333333, -0.33333333],\n",
            "       [-0.        ,  1.        , -0.25      , -1.        ],\n",
            "       [ 0.        ,  0.        ,  1.        ,  0.        ],\n",
            "       [-0.        , -0.        , -0.        ,  1.        ]])\n",
            "array([ 1. , -1.5, -2. ,  1. ])\n",
            "X=\n",
            "array([ 2., -1., -2.,  1.])\n"
          ]
        }
      ]
    },
    {
      "cell_type": "markdown",
      "metadata": {
        "id": "EBL7OwccOAw6"
      },
      "source": [
        "**Banded matrix**\n",
        "\n",
        "Variation in a one-dimensional system: a set of N identiacal masses in a row, joined by identical linear springs\n",
        "\n",
        "$\n",
        "\\begin{pmatrix}\n",
        "(\\alpha-k) & -k \\\\\n",
        "-k & \\alpha & -k \\\\\n",
        "& -k & \\alpha & -k \\\\\n",
        "& & & & \\cdots \\\\\n",
        "& & & & & \\cdots \\\\\n",
        "& & & & & -k & \\alpha & -k \\\\\n",
        "& & & & &  & -k & (\\alpha-k) \\\\\n",
        "\\end{pmatrix}$ \n",
        "$\n",
        "\\begin{pmatrix}\n",
        "x_1 \\\\\n",
        "x_2 \\\\\n",
        "x_3 \\\\\n",
        "\\cdots \\\\\n",
        "\\cdots \\\\\n",
        "x_{N-1} \\\\\n",
        "x_N \\\\\n",
        "\\end{pmatrix}=$\n",
        "$\n",
        "\\begin{pmatrix}\n",
        "C \\\\\n",
        "0 \\\\\n",
        "0 \\\\\n",
        "\\cdots \\\\\n",
        "\\cdots \\\\\n",
        "0 \\\\\n",
        "0 \\\\\n",
        "\\end{pmatrix}\n",
        "$\n",
        "\n",
        "where $\\alpha=2k-m\\omega^2$. "
      ]
    },
    {
      "cell_type": "code",
      "metadata": {
        "id": "ZYWMkOeTOL3H",
        "outputId": "910e9fca-89aa-4de2-bc1b-028ad7cdef7e",
        "colab": {
          "base_uri": "https://localhost:8080/",
          "height": 265
        }
      },
      "source": [
        "from numpy import empty,zeros,copy\n",
        "from pylab import plot,show\n",
        "\n",
        "######################################################################\n",
        "#\n",
        "# Function to solve a banded system of linear equations using\n",
        "# Gaussian elimination and backsubstitution\n",
        "#\n",
        "# x = banded(A,v,up,down)\n",
        "#\n",
        "# This function returns the vector solution x of the equation A.x = v,\n",
        "# where v is an array representing a vector of N elements, either real\n",
        "# or complex, and A is an N by N banded matrix with \"up\" nonzero\n",
        "# elements above the diagonal and \"down\" nonzero elements below the\n",
        "# diagonal.  The matrix is specified as a two-dimensional array of\n",
        "# (1+up+down) by N elements with the diagonals of the original matrix\n",
        "# along its rows, thus:\n",
        "#\n",
        "#   (  -   -  A02 A13 A24 ...\n",
        "#   (  -  A01 A12 A23 A34 ...\n",
        "#   ( A00 A11 A22 A33 A44 ...\n",
        "#   ( A10 A21 A32 A43 A54 ...\n",
        "#   ( A20 A31 A42 A53 A64 ...\n",
        "#\n",
        "# Elements represented by dashes are ignored -- it doesn't matter what\n",
        "# these elements contain.  The size of the system is taken from the\n",
        "# size of the vector v.  If the matrix A is larger than NxN then the\n",
        "# extras are ignored.  If it is smaller, the program will produce an\n",
        "# error.\n",
        "#\n",
        "# The function is compatible with version 2 and version 3 of Python.\n",
        "#\n",
        "# Written by Mark Newman <mejn@umich.edu>, September 4, 2011\n",
        "# You may use, share, or modify this file freely\n",
        "#\n",
        "######################################################################\n",
        "def banded(Aa,va,up,down):\n",
        "    # Copy the inputs and determine the size of the system\n",
        "    A = copy(Aa)\n",
        "    v = copy(va)\n",
        "    N = len(v)\n",
        "\n",
        "    # Gaussian elimination\n",
        "    for m in range(N):\n",
        "        # Normalization factor\n",
        "        div = A[up,m]\n",
        "\n",
        "        # Update the vector first\n",
        "        v[m] /= div\n",
        "        for k in range(1,down+1):\n",
        "            if m+k<N:\n",
        "                v[m+k] -= A[up+k,m]*v[m]\n",
        "\n",
        "        # Now normalize the pivot row of A and subtract from lower ones\n",
        "        for i in range(up):\n",
        "            j = m + up - i\n",
        "            if j<N:\n",
        "                A[i,j] /= div\n",
        "                for k in range(1,down+1):\n",
        "                    A[i+k,j] -= A[up+k,m]*A[i,j]\n",
        "\n",
        "    # Backsubstitution\n",
        "    for m in range(N-2,-1,-1):\n",
        "        for i in range(up):\n",
        "            j = m + up - i\n",
        "            if j<N:\n",
        "                v[m] -= A[i,j]*v[j]\n",
        "    return v\n",
        "\n",
        "# Constants\n",
        "N = 26\n",
        "C = 1.0\n",
        "m = 1.0\n",
        "k = 6.0\n",
        "omega = 2.0\n",
        "alpha = 2*k-m*omega*omega\n",
        "\n",
        "# Set up the initial values of the arrays\n",
        "A = empty([3,N],float)\n",
        "for i in range(N):\n",
        "    A[0,i] = -k\n",
        "    A[1,i] = alpha\n",
        "    A[2,i] = -k\n",
        "A[1,0] = alpha - k\n",
        "A[1,N-1] = alpha - k\n",
        "\n",
        "v = zeros(N,float)\n",
        "v[0] = C\n",
        "\n",
        "# Solve the equations\n",
        "x = banded(A,v,1,1)\n",
        "\n",
        "# Make a plot using both dots and lines\n",
        "plot(x)\n",
        "plot(x,\"ko\")\n",
        "show()"
      ],
      "execution_count": null,
      "outputs": [
        {
          "output_type": "display_data",
          "data": {
            "image/png": "[encoded data removed]",
            "text/plain": [
              "<Figure size 432x288 with 1 Axes>"
            ]
          },
          "metadata": {
            "needs_background": "light"
          }
        }
      ]
    },
    {
      "cell_type": "markdown",
      "metadata": {
        "id": "CyTiVovDbJid"
      },
      "source": [
        "# LU decomposition"
      ]
    },
    {
      "cell_type": "markdown",
      "metadata": {
        "id": "gNMWjkVFetot"
      },
      "source": [
        "Let $A = \\begin{pmatrix}\n",
        "2 & 3 & 4\\\\\n",
        "5 & 6 & 7 \\\\\n",
        "8 & 9 & 1\n",
        "\\end{pmatrix}\n",
        "$\n",
        "\n",
        "if we define  $L0 = 1/2 * \\begin{pmatrix}\n",
        "1 & 0 & 0\\\\\n",
        "-5 & 2 & 0 \\\\\n",
        "-8 & 0 & 2\n",
        "\\end{pmatrix}\n",
        "$, we will have  $L_0 A = \\begin{pmatrix}\n",
        "1 & 1.5 & 2\\\\\n",
        "0 & -1.5 & -3 \\\\\n",
        "0 & -3 & -15\n",
        "\\end{pmatrix}\n",
        "$\n",
        "\n",
        "now if we define  $L_1 = 1/(-1.5)*\\begin{pmatrix}\n",
        "-1.5 & 0 & 0\\\\\n",
        "0 & 1 & 0 \\\\\n",
        "0 & 3 & -1.5\n",
        "\\end{pmatrix}\n",
        "$, we will have $L_1 L_0 A = \\begin{pmatrix}\n",
        "1. & 1.5 & 2\\\\\n",
        "0 & 1 & 2 \\\\\n",
        "0 & 0 & -9\n",
        "\\end{pmatrix}\n",
        "$\n",
        "\n",
        "now if we define  $L_2 = 1/(-9)*\\begin{pmatrix}\n",
        "-9 & 0 & 0\\\\\n",
        "0 & -9 & 0 \\\\\n",
        "0 & 0 & 1\n",
        "\\end{pmatrix}\n",
        "$, we will have $U=L_2 L_1 L_0 A = \\begin{pmatrix}\n",
        "1. & 1.5 & 2\\\\\n",
        "0 & 1 & 2 \\\\\n",
        "0 & 0 & 1\n",
        "\\end{pmatrix}\n",
        "$\n",
        "\n",
        "We also have $L_0^{-1} = \\begin{pmatrix}\n",
        "2 & 0 & 0\\\\\n",
        "5 & 1 & 0 \\\\\n",
        "8 & 0 & 1\n",
        "\\end{pmatrix}\n",
        "$, $L_1^{-1} = \\begin{pmatrix}\n",
        "1 & 0 & 0\\\\\n",
        "0 & -1.5 & 0 \\\\\n",
        "0 & -3 & 1\n",
        "\\end{pmatrix}\n",
        "$ and $L_2^{-1} = \\begin{pmatrix}\n",
        "1 & 0 & 0\\\\\n",
        "0 & 1 & 0 \\\\\n",
        "0 & 0 & -9\n",
        "\\end{pmatrix}\n",
        "$ and $L=L_0^{-1}L_1^{-1}L_2^{-1} = \\begin{pmatrix}\n",
        "2 & 0 & 0\\\\\n",
        "5 & -1.5 & 0 \\\\\n",
        "8 & -3 & -9\n",
        "\\end{pmatrix}\n",
        "$ \n",
        "\n",
        "We also have $LU=A$"
      ]
    },
    {
      "cell_type": "code",
      "metadata": {
        "id": "VzBw5SFRbLbx",
        "colab": {
          "base_uri": "https://localhost:8080/"
        },
        "outputId": "23e64a1d-2e85-44d0-d5ec-30556bd7530b"
      },
      "source": [
        "import pprint\n",
        "import numpy as np\n",
        "\n",
        "# Performs an LU Decomposition of A (which must be square) into A = LU. The function returns L and U.\n",
        "def lu_decomposition(A):\n",
        "    n = len(A)\n",
        "\n",
        "    # Create zero matrices for L and U                                                                                                                                                                                                                 \n",
        "    L = np.zeros((n, n), float)\n",
        "    U = np.zeros((n, n), float)\n",
        "\n",
        "    # Perform the LU Decomposition                                                                                                                                                                                                                     \n",
        "    for j in range(n):\n",
        "        # All diagonal entries of L are set to unity                                                                                                                                                                                                   \n",
        "        L[j][j] = 1.0\n",
        "\n",
        "        # calculate U: u_{ij} = a_{ij} - \\sum_{k=0}^{i-1} u_{kj} l_{ik} for i<=j                                                                                                                                                                                  \n",
        "        for i in range(j+1):\n",
        "            s1 = 0.\n",
        "            for k in range(i):\n",
        "                s1 += U[k][j] * L[i][k]\n",
        "            U[i][j] = A[i][j] - s1\n",
        "\n",
        "        # calculate L: l_{ij} = \\frac{1}{u_{jj}} (a_{ij} - \\sum_{k=0}^{j-1} u_{kj} l_{ik} ) for i>=j                                                                                                                                                         \n",
        "        for i in range(j, n):            \n",
        "            s2 = 0.\n",
        "            for k in range(j):\n",
        "                s2 += U[k][j] * L[i][k]            \n",
        "            L[i][j] = (A[i][j] - s2) / U[j][j]\n",
        "\n",
        "    return (L, U)\n",
        "\n",
        "A = [[7, 3, -1, 2], [3, 8, 1, -4], [-1, 1, 4, -1], [2, -4, -1, 6]]\n",
        "L, U = lu_decomposition(A)\n",
        "\n",
        "print(\"A:\")\n",
        "pprint.pprint(A)\n",
        "\n",
        "print(\"L:\")\n",
        "pprint.pprint(L)\n",
        "\n",
        "print(\"U:\")\n",
        "pprint.pprint(U)\n",
        "\n",
        "print(\"LU:\")\n",
        "pprint.pprint(L@U)"
      ],
      "execution_count": null,
      "outputs": [
        {
          "output_type": "stream",
          "name": "stdout",
          "text": [
            "A:\n",
            "[[7, 3, -1, 2], [3, 8, 1, -4], [-1, 1, 4, -1], [2, -4, -1, 6]]\n",
            "L:\n",
            "array([[ 1.        ,  0.        ,  0.        ,  0.        ],\n",
            "       [ 0.42857143,  1.        ,  0.        ,  0.        ],\n",
            "       [-0.14285714,  0.21276596,  1.        ,  0.        ],\n",
            "       [ 0.28571429, -0.72340426,  0.08982036,  1.        ]])\n",
            "U:\n",
            "array([[ 7.        ,  3.        , -1.        ,  2.        ],\n",
            "       [ 0.        ,  6.71428571,  1.42857143, -4.85714286],\n",
            "       [ 0.        ,  0.        ,  3.55319149,  0.31914894],\n",
            "       [ 0.        ,  0.        ,  0.        ,  1.88622754]])\n",
            "LU:\n",
            "array([[ 7.,  3., -1.,  2.],\n",
            "       [ 3.,  8.,  1., -4.],\n",
            "       [-1.,  1.,  4., -1.],\n",
            "       [ 2., -4., -1.,  6.]])\n"
          ]
        }
      ]
    },
    {
      "cell_type": "markdown",
      "metadata": {
        "id": "Z5sBfFKcbPyU"
      },
      "source": [
        "**LU decomposition with pivoting**"
      ]
    },
    {
      "cell_type": "code",
      "metadata": {
        "id": "PaeXgi0bbTRy",
        "colab": {
          "base_uri": "https://localhost:8080/"
        },
        "outputId": "3daee2e0-9cfc-4f48-8bbb-dd9b4e4a5603"
      },
      "source": [
        "import pprint\n",
        "import numpy as np\n",
        "import scipy.linalg \n",
        "\n",
        "# Creates the permutation matrix for m\n",
        "# a proper permutation in rows is often sufficient for LU decomposition\n",
        "def permutation(m):\n",
        "    n = len(m)\n",
        "    ID = [[float(i == j) for i in range(n)] for j in range(n)]   # create an identity matrix first  \n",
        "\n",
        "    for j in range(n):\n",
        "        row = max(range(j, n), key=lambda i: abs(m[i][j]))\n",
        "        if j != row:\n",
        "            ID[j], ID[row] = ID[row], ID[j]\n",
        "\n",
        "    return ID\n",
        " \n",
        " # Decomposes a nxn matrix A by PA=LU and returns L, U and P\n",
        "def LU_permutation(A):\n",
        "    n = len(A)\n",
        "\n",
        "    # define zero matrices for L and U first\n",
        "    L = np.zeros((n, n), float)\n",
        "    U = np.zeros((n, n), float)\n",
        "    \n",
        "    # find out the permutation matrix and calculate PA\n",
        "    P = permutation(A)\n",
        "    A2 = P@A\n",
        "    print(\"A = \", A)\n",
        "    print(\"P = \", P)\n",
        "    print(\"PA = \", A2)\n",
        "\n",
        "     # Perform the LU Decomposition                                                                                                                                                                                                                     \n",
        "    for j in range(n):\n",
        "        # All diagonal entries of L are set to 1                                                                                                                                                                                                  \n",
        "        L[j][j] = 1.0\n",
        "\n",
        "        # calculate U: u_{ij} = a_{ij} - \\sum_{k=0}^{i-1} u_{kj} l_{ik} for i<=j                                                                                                                                                                                  \n",
        "        for i in range(j+1):\n",
        "            s1 = 0.\n",
        "            for k in range(i):\n",
        "                s1 += U[k][j] * L[i][k]\n",
        "            U[i][j] = A2[i][j] - s1\n",
        "\n",
        "        # calculate L: l_{ij} = \\frac{1}{u_{jj}} (a_{ij} - \\sum_{k=0}^{j-1} u_{kj} l_{ik} ) for i>=j                                                                                                                                                         \n",
        "        for i in range(j, n):            \n",
        "            s2 = 0.\n",
        "            for k in range(j):\n",
        "                s2 += U[k][j] * L[i][k]            \n",
        "            L[i][j] = (A2[i][j] - s2) / U[j][j]\n",
        "            \n",
        "    print(\"L = \", L)\n",
        "    print(\"U = \", U)\n",
        "    return (L, U, P)\n",
        " \n",
        "A = np.array([[1, 3, 5], [2, 4, 7], [3, 1, 0]], float)\n",
        "L, U, P = LU_permutation(A)\n",
        "\n",
        "print(\"LU = \", L@U)\n",
        "\n",
        "print(\"\\nFrom scipy linalg:\")\n",
        "P, L, U = scipy.linalg.lu(A)\n",
        "print(\"PA = \")\n",
        "pprint.pprint(P@A)\n",
        "print(\"LU = \")\n",
        "pprint.pprint(L@U)"
      ],
      "execution_count": null,
      "outputs": [
        {
          "output_type": "stream",
          "name": "stdout",
          "text": [
            "A =  [[1. 3. 5.]\n",
            " [2. 4. 7.]\n",
            " [3. 1. 0.]]\n",
            "P =  [[0.0, 0.0, 1.0], [0.0, 1.0, 0.0], [1.0, 0.0, 0.0]]\n",
            "PA =  [[3. 1. 0.]\n",
            " [2. 4. 7.]\n",
            " [1. 3. 5.]]\n",
            "L =  [[1.         0.         0.        ]\n",
            " [0.66666667 1.         0.        ]\n",
            " [0.33333333 0.8        1.        ]]\n",
            "U =  [[ 3.          1.          0.        ]\n",
            " [ 0.          3.33333333  7.        ]\n",
            " [ 0.          0.         -0.6       ]]\n",
            "LU =  [[3. 1. 0.]\n",
            " [2. 4. 7.]\n",
            " [1. 3. 5.]]\n",
            "\n",
            "From scipy linalg:\n",
            "PA = \n",
            "array([[3., 1., 0.],\n",
            "       [2., 4., 7.],\n",
            "       [1., 3., 5.]])\n",
            "LU = \n",
            "array([[3., 1., 0.],\n",
            "       [2., 4., 7.],\n",
            "       [1., 3., 5.]])\n"
          ]
        }
      ]
    },
    {
      "cell_type": "markdown",
      "metadata": {
        "id": "JSF-LtT8b9cm"
      },
      "source": [
        "**LU decomposition with pivoting and backsubstitution to solve linear equations**"
      ]
    },
    {
      "cell_type": "code",
      "metadata": {
        "id": "sE5ogfWPb1tZ",
        "colab": {
          "base_uri": "https://localhost:8080/"
        },
        "outputId": "d00c620a-fb18-44b8-9e23-57922f9e90e0"
      },
      "source": [
        "import pprint\n",
        "import numpy as np\n",
        "    \n",
        "# first do LU decomposition, and then solve linear equations\n",
        "def SolveLinEqns(A, V):\n",
        "    n = len(A)\n",
        "\n",
        "    # LU decomposition\n",
        "    L, U, P = LU_permutation(A)\n",
        "    Vnew = P@V \n",
        "\n",
        "    # substituion Ly = V_new\n",
        "    y = np.empty(n, float)\n",
        "    for i in range(0, n, 1):\n",
        "        y[i] = Vnew[i]/L[i][i]\n",
        "        for k in range(0, i, 1):\n",
        "            y[i] -= y[k]*L[i][k]\n",
        "\n",
        "    # backsubstituion UX = y\n",
        "    x = np.empty(n, float)\n",
        "    for m in range(n-1, -1, -1):\n",
        "        x[m] = y[m]/U[m][m]\n",
        "        for i in range(m+1, n):\n",
        "            x[m] -= U[m][i]/U[m][m]*x[i]\n",
        "            \n",
        "    return x\n",
        "\n",
        "A = np.array([[1, 1, 1], [0, 2, 5], [2, 5, -1]], float)\n",
        "V = np.array([6, -4, 27], float)\n",
        "X = SolveLinEqns(A, V)  # expect 5, 3, -2\n",
        "print(\"X = \", X)\n",
        "\n",
        "Xlinalg = np.linalg.inv(A)@V\n",
        "print(\"\\nX from linalg = \")\n",
        "print(Xlinalg)"
      ],
      "execution_count": null,
      "outputs": [
        {
          "output_type": "stream",
          "name": "stdout",
          "text": [
            "A =  [[ 1.  1.  1.]\n",
            " [ 0.  2.  5.]\n",
            " [ 2.  5. -1.]]\n",
            "P =  [[0.0, 0.0, 1.0], [1.0, 0.0, 0.0], [0.0, 1.0, 0.0]]\n",
            "PA =  [[ 2.  5. -1.]\n",
            " [ 1.  1.  1.]\n",
            " [ 0.  2.  5.]]\n",
            "L =  [[ 1.          0.          0.        ]\n",
            " [ 0.5         1.          0.        ]\n",
            " [ 0.         -1.33333333  1.        ]]\n",
            "U =  [[ 2.   5.  -1. ]\n",
            " [ 0.  -1.5  1.5]\n",
            " [ 0.   0.   7. ]]\n",
            "X =  [ 5.  3. -2.]\n",
            "\n",
            "X from linalg = \n",
            "[ 5.  3. -2.]\n"
          ]
        }
      ]
    },
    {
      "cell_type": "markdown",
      "metadata": {
        "id": "jEPoVNjSpIvQ"
      },
      "source": [
        "**Inverse matrix**\n",
        "\n",
        "We can use LU decomposition (or Gaussian elimination) to find the inverse matrix\n",
        "\n",
        "$AX = V$\n",
        "\n",
        "we have to solve for each column of $X$ separately, in terms of hte corresponding column of $I$.\n",
        "\n",
        "If we set $V=I$, we will have $X=A^{-1}$."
      ]
    },
    {
      "cell_type": "markdown",
      "metadata": {
        "id": "kLDgxXDoqBdP"
      },
      "source": [
        "**Determinant using LU decomposition**\n",
        "\n",
        "Since $PA = LU$, we have $A=P^{-1}LU$ and $|A| = |P^{-1}| \\cdot |L| \\cdot |U| = (-1)^s \\left(\\Pi_{i=1}^{n} \\ell_{ii} \\right) \\left( \\Pi_{i=1}^{n} u_{ii} \\right) = (-1)^s \\left( \\Pi_{i=1}^{n} u_{ii} \\right)$\n",
        "\n",
        "$S$ is the number of row exchanges in the decomposition. For lower or upper triangular matrix, the determinant is the product of all diagonal elements.\n"
      ]
    },
    {
      "cell_type": "markdown",
      "metadata": {
        "id": "BN2Ej-7Scw-x"
      },
      "source": [
        "# QR decomposition"
      ]
    },
    {
      "cell_type": "code",
      "metadata": {
        "id": "Tmjulbjtc2CV",
        "colab": {
          "base_uri": "https://localhost:8080/"
        },
        "outputId": "a529a0e3-6e30-479e-a658-42cbc1435092"
      },
      "source": [
        "import numpy as np\n",
        "import pprint as pprint\n",
        "\n",
        "# use the Gram-Schmidt algorithm for QR decomposition\n",
        "# The Gram-Schmidt process is inherently numerically unstable. \n",
        "# While the application of the projections has an appealing geometric \n",
        "# analogy to orthogonalization, the orthogonalization itself is prone \n",
        "# to numerical error. A significant advantage however is the ease of implementation.\n",
        "\n",
        "def Gram_Schmidt(A):\n",
        "    N = len(A)\n",
        "    Q = np.zeros(A.shape, float)\n",
        "    \n",
        "    for j in range(0, N):\n",
        "        q = A[:, j]\n",
        "        for i in range(j):\n",
        "            rij = np.vdot(q, Q[:, i])\n",
        "            q = q - rij*Q[:, i]\n",
        "\n",
        "        qjj_norm = np.linalg.norm(q, ord=2)\n",
        "\n",
        "        if np.isclose(qjj_norm, 0.0):\n",
        "            raise ValueError(\"invalid input matrix\")\n",
        "        else:\n",
        "            Q[:, j] = q/qjj_norm\n",
        "\n",
        "    # Compute upper triangular matrix R\n",
        "    # since Q is an orthogonal matrix, we have Q Q^T = I\n",
        "    # since A=QR, we have R = Q^T A\n",
        "    R = np.dot(Q.T, A)\n",
        "\n",
        "    return (Q, R)\n",
        "\n",
        "A = np.array([ [1, 4, 8, 4],\n",
        "             [4, 2, 3, 7],\n",
        "             [8, 3, 6, 9],\n",
        "             [4, 7, 9, 2] ])\n",
        "\n",
        "Q, R = Gram_Schmidt(A)\n",
        "pprint.pprint(Q)\n",
        "pprint.pprint(R)\n",
        "pprint.pprint(Q@R)\n",
        "\n",
        "print(\"\\nFrom np.linalg\")\n",
        "q, r = np.linalg.qr(A)\n",
        "print(\"Q:\")\n",
        "pprint.pprint(q)\n",
        "print(\"R:\")\n",
        "pprint.pprint(r)\n",
        "pprint.pprint(q@r)"
      ],
      "execution_count": null,
      "outputs": [
        {
          "output_type": "stream",
          "name": "stdout",
          "text": [
            "array([[ 0.10153462,  0.558463  ,  0.80981107,  0.1483773 ],\n",
            "       [ 0.40613847, -0.10686638, -0.14147555,  0.8964462 ],\n",
            "       [ 0.81227693, -0.38092692,  0.22995024, -0.37712564],\n",
            "       [ 0.40613847,  0.72910447, -0.5208777 , -0.17928924]])\n",
            "array([[ 9.84885780e+00,  6.49821546e+00,  1.05596001e+01,\n",
            "         1.13718770e+01],\n",
            "       [-3.55271368e-15,  5.98106979e+00,  8.42348360e+00,\n",
            "        -4.84345998e-01],\n",
            "       [ 3.99680289e-15,  2.77555756e-15,  2.74586406e+00,\n",
            "         3.27671222e+00],\n",
            "       [-1.54321000e-14, -1.02418074e-14, -1.61815006e-14,\n",
            "         3.11592335e+00]])\n",
            "array([[1., 4., 8., 4.],\n",
            "       [4., 2., 3., 7.],\n",
            "       [8., 3., 6., 9.],\n",
            "       [4., 7., 9., 2.]])\n",
            "\n",
            "From np.linalg\n",
            "Q:\n",
            "array([[-0.10153462,  0.558463  ,  0.80981107,  0.1483773 ],\n",
            "       [-0.40613847, -0.10686638, -0.14147555,  0.8964462 ],\n",
            "       [-0.81227693, -0.38092692,  0.22995024, -0.37712564],\n",
            "       [-0.40613847,  0.72910447, -0.5208777 , -0.17928924]])\n",
            "R:\n",
            "array([[ -9.8488578 ,  -6.49821546, -10.55960012, -11.37187705],\n",
            "       [  0.        ,   5.98106979,   8.4234836 ,  -0.484346  ],\n",
            "       [  0.        ,   0.        ,   2.74586406,   3.27671222],\n",
            "       [  0.        ,   0.        ,   0.        ,   3.11592335]])\n",
            "array([[1., 4., 8., 4.],\n",
            "       [4., 2., 3., 7.],\n",
            "       [8., 3., 6., 9.],\n",
            "       [4., 7., 9., 2.]])\n"
          ]
        }
      ]
    },
    {
      "cell_type": "markdown",
      "metadata": {
        "id": "lR1Gloi3-XSG"
      },
      "source": [
        "**Solve linear equations using QR decomposition**\n",
        "\n",
        "If we can do QR decomposition, we can use it to solve linear equations $AX=V$. Since $A=QR$ and $Q^TQ=I$, we have $RX=Q^TV$ (here there is no need to calculate the inverse matrix for $Q$, should be just $Q^T$). $R$ is an upper triangular matrix and thus we can directly apply backsubstitution. "
      ]
    },
    {
      "cell_type": "markdown",
      "metadata": {
        "id": "6rdgxGB3dEXY"
      },
      "source": [
        "**Eigenvalues and eigenvectors**"
      ]
    },
    {
      "cell_type": "code",
      "metadata": {
        "id": "W1VTHz4NdDLZ",
        "colab": {
          "base_uri": "https://localhost:8080/"
        },
        "outputId": "b49e7b28-2e6b-4101-f27e-6b2c0de2bfd2"
      },
      "source": [
        "import numpy as np\n",
        "import scipy.linalg as linalg\n",
        "import pprint as pprint\n",
        "\n",
        "def qr_iteration(A):\n",
        "\n",
        "    # start with an identity matrix\n",
        "    V = np.identity(len(A))\n",
        "    for i in range(50):           # can stop the run in an adapative way to check the off-diagonal element        \n",
        "        Q, R = Gram_Schmidt(A)     # use personally-developed Gram Schmidt algorithm for QR decomposition\n",
        "        A = np.dot(R, Q)\n",
        "        V = np.dot(V, Q)\n",
        "        pprint.pprint(A)\n",
        "    return A, V\n",
        "\n",
        "A = np.array([ [1, 4, 8],\n",
        "            [4, 2, 3],\n",
        "            [8, 3, 6]], float)\n",
        "\n",
        "w, v = np.linalg.eig(A)  # use linear algorithm algorithm for QR decomposition\n",
        "c, d = qr_iteration(A)\n",
        "\n",
        "print(\"From linalg:\")\n",
        "print(w)   \n",
        "print(v) \n",
        "\n",
        "print(\"\\nFrom qr_iteration:\")\n",
        "print(c) \n",
        "print(d) "
      ],
      "execution_count": null,
      "outputs": [
        {
          "output_type": "stream",
          "name": "stdout",
          "text": [
            "array([[ 9.49382716,  7.95755096,  0.79438547],\n",
            "       [ 7.95755096, -0.87939221, -0.1377018 ],\n",
            "       [ 0.79438547, -0.1377018 ,  0.38556505]])\n",
            "array([[13.06313597,  3.75968662,  0.02574828],\n",
            "       [ 3.75968662, -4.46321537, -0.03399067],\n",
            "       [ 0.02574828, -0.03399067,  0.40007941]])\n",
            "array([[ 1.37210176e+01,  1.47399997e+00,  7.58286808e-04],\n",
            "       [ 1.47399997e+00, -5.12133308e+00, -2.89184722e-03],\n",
            "       [ 7.58286808e-04, -2.89184722e-03,  4.00315432e-01]])\n",
            "array([[ 1.38191295e+01,  5.60706587e-01,  2.19968041e-05],\n",
            "       [ 5.60706587e-01, -5.21944647e+00, -2.24376789e-04],\n",
            "       [ 2.19968041e-05, -2.24376789e-04,  4.00316938e-01]])\n",
            "array([[ 1.38332640e+01,  2.12350805e-01,  6.36686555e-07],\n",
            "       [ 2.12350805e-01, -5.23358090e+00, -1.71908643e-05],\n",
            "       [ 6.36686556e-07, -1.71908643e-05,  4.00316947e-01]])\n",
            "array([[ 1.38352899e+01,  8.03704277e-02,  1.84227227e-08],\n",
            "       [ 8.03704277e-02, -5.23560690e+00, -1.31473107e-06],\n",
            "       [ 1.84227232e-08, -1.31473107e-06,  4.00316947e-01]])\n",
            "array([[ 1.38355801e+01,  3.04157910e-02,  5.33042387e-10],\n",
            "       [ 3.04157910e-02, -5.23589709e+00, -1.00522770e-07],\n",
            "       [ 5.33042959e-10, -1.00522770e-07,  4.00316947e-01]])\n",
            "array([[ 1.38356217e+01,  1.15105557e-02,  1.54223884e-11],\n",
            "       [ 1.15105557e-02, -5.23593865e+00, -7.68556760e-09],\n",
            "       [ 1.54229611e-11, -7.68556800e-09,  4.00316947e-01]])\n",
            "array([[ 1.38356277e+01,  4.35604798e-03,  4.45672139e-13],\n",
            "       [ 4.35604798e-03, -5.23594460e+00, -5.87605023e-10],\n",
            "       [ 4.46244534e-13, -5.87604622e-10,  4.00316947e-01]])\n",
            "array([[ 1.38356285e+01,  1.64849981e-03,  1.23390171e-14],\n",
            "       [ 1.64849981e-03, -5.23594545e+00, -4.49252215e-11],\n",
            "       [ 1.29115386e-14, -4.49256230e-11,  4.00316947e-01]])\n",
            "array([[ 1.38356286e+01,  6.23857116e-04, -1.98894133e-16],\n",
            "       [ 6.23857116e-04, -5.23594557e+00, -3.43521348e-12],\n",
            "       [ 3.73579536e-16, -3.43481196e-12,  4.00316947e-01]])\n",
            "array([[ 1.38356286e+01,  2.36092049e-04, -5.61682707e-16],\n",
            "       [ 2.36092049e-04, -5.23594559e+00, -2.62208845e-13],\n",
            "       [ 1.08090657e-17, -2.62610338e-13,  4.00316947e-01]])\n",
            "array([[ 1.38356286e+01,  8.93465095e-05, -5.72172175e-16],\n",
            "       [ 8.93465095e-05, -5.23594559e+00, -2.04795123e-14],\n",
            "       [ 3.12747060e-19, -2.00780101e-14,  4.00316947e-01]])\n",
            "array([[ 1.38356286e+01,  3.38122303e-05, -5.72478465e-16],\n",
            "       [ 3.38122303e-05, -5.23594559e+00, -1.13357620e-15],\n",
            "       [ 9.04895263e-21, -1.53507472e-15,  4.00316947e-01]])\n",
            "array([[ 1.38356286e+01,  1.27958767e-05, -5.72486271e-16],\n",
            "       [ 1.27958767e-05, -5.23594559e+00, -5.18864856e-16],\n",
            "       [ 2.61820343e-22, -1.17364937e-16,  4.00316947e-01]])\n",
            "array([[ 1.38356286e+01,  4.84246260e-06, -5.72486897e-16],\n",
            "       [ 4.84246260e-06, -5.23594559e+00,  3.92526192e-16],\n",
            "       [ 7.57545187e-24, -8.97319737e-18,  4.00316947e-01]])\n",
            "array([[ 1.38356286e+01,  1.83257815e-06, -5.72486764e-16],\n",
            "       [ 1.83257815e-06, -5.23594559e+00, -4.02185641e-16],\n",
            "       [ 2.19185365e-25, -6.86050477e-19,  4.00316947e-01]])\n",
            "array([[ 1.38356286e+01,  6.93519588e-07, -5.72486817e-16],\n",
            "       [ 6.93519589e-07, -5.23594559e+00,  4.01447062e-16],\n",
            "       [ 6.34108543e-27, -5.24523465e-20,  4.00316947e-01]])\n",
            "array([[ 1.38356286e+01,  2.62455067e-07, -5.72486797e-16],\n",
            "       [ 2.62455066e-07, -5.23594559e+00, -4.01503553e-16],\n",
            "       [ 1.77389716e-28, -4.01027146e-21,  4.00316947e-01]])\n",
            "array([[ 1.38356286e+01,  9.93233102e-08, -5.72486805e-16],\n",
            "       [ 9.93233111e-08, -5.23594559e+00,  4.01499226e-16],\n",
            "       [ 6.54543001e-30, -3.06607394e-22,  4.00316947e-01]])\n",
            "array([[ 1.38356286e+01,  3.75878450e-08, -5.72486802e-16],\n",
            "       [ 3.75878441e-08, -5.23594559e+00, -4.01499560e-16],\n",
            "       [ 1.03742122e-30, -2.34418278e-23,  4.00316947e-01]])\n",
            "array([[ 1.38356286e+01,  1.42247164e-08, -5.72486803e-16],\n",
            "       [ 1.42247174e-08, -5.23594559e+00,  4.01499533e-16],\n",
            "       [-7.72194263e-32, -1.79225733e-24,  4.00316947e-01]])\n",
            "array([[ 1.38356286e+01,  5.38319296e-09, -5.72486802e-16],\n",
            "       [ 5.38319205e-09, -5.23594559e+00, -4.01499535e-16],\n",
            "       [-2.01388056e-31, -1.37027732e-25,  4.00316947e-01]])\n",
            "array([[ 1.38356286e+01,  2.03721051e-09, -5.72486803e-16],\n",
            "       [ 2.03721142e-09, -5.23594559e+00,  4.01499535e-16],\n",
            "       [-1.27172049e-30, -1.04763953e-26,  4.00316947e-01]])\n",
            "array([[ 1.38356286e+01,  7.70961771e-10, -5.72486803e-16],\n",
            "       [ 7.70960860e-10, -5.23594559e+00, -4.01499535e-16],\n",
            "       [-5.48589553e-31, -8.01127153e-28,  4.00316947e-01]])\n",
            "array([[ 1.38356286e+01,  2.91760976e-10, -5.72486803e-16],\n",
            "       [ 2.91761887e-10, -5.23594559e+00,  4.01499535e-16],\n",
            "       [-1.16160100e-30, -6.10509234e-29,  4.00316947e-01]])\n",
            "array([[ 1.38356286e+01,  1.10415075e-10, -5.72486803e-16],\n",
            "       [ 1.10414164e-10, -5.23594559e+00, -4.01499535e-16],\n",
            "       [-2.40539435e-30, -4.87932593e-30,  4.00316947e-01]])\n",
            "array([[ 1.38356286e+01,  4.17841478e-11, -5.72486803e-16],\n",
            "       [ 4.17850586e-11, -5.23594559e+00,  4.01499535e-16],\n",
            "       [ 1.61782621e-30, -6.52678663e-31,  4.00316947e-01]])\n",
            "array([[ 1.38356286e+01,  1.58140191e-11, -5.72486803e-16],\n",
            "       [ 1.58131083e-11, -5.23594559e+00, -4.01499535e-16],\n",
            "       [ 1.42782483e-30, -4.20913729e-32,  4.00316947e-01]])\n",
            "array([[ 1.38356286e+01,  5.98339078e-12, -5.72486803e-16],\n",
            "       [ 5.98430159e-12, -5.23594559e+00,  4.01499535e-16],\n",
            "       [ 2.69005998e-30,  3.88732551e-32,  4.00316947e-01]])\n",
            "array([[ 1.38356286e+01,  2.26560570e-12, -5.72486803e-16],\n",
            "       [ 2.26469489e-12, -5.23594559e+00, -4.01499535e-16],\n",
            "       [-2.28055640e-31, -3.59011801e-32,  4.00316947e-01]])\n",
            "array([[ 1.38356286e+01,  8.56138737e-13, -5.72486803e-16],\n",
            "       [ 8.57049546e-13, -5.23594559e+00,  4.01499535e-16],\n",
            "       [-1.86153352e-30,  3.31563367e-32,  4.00316947e-01]])\n",
            "array([[ 1.38356286e+01,  3.25252038e-13, -5.72486803e-16],\n",
            "       [ 3.24341229e-13, -5.23594559e+00, -4.01499535e-16],\n",
            "       [ 2.24659884e-30, -3.06213517e-32,  4.00316947e-01]])\n",
            "array([[ 1.38356286e+01,  1.21832658e-13, -5.72486803e-16],\n",
            "       [ 1.22743467e-13, -5.23594559e+00,  4.01499535e-16],\n",
            "       [-2.63150846e-30,  2.82801803e-32,  4.00316947e-01]])\n",
            "array([[ 1.38356286e+01,  4.73617605e-14, -5.72486803e-16],\n",
            "       [ 4.64509515e-14, -5.23594559e+00, -4.01499535e-16],\n",
            "       [ 1.11683114e-30, -2.61180044e-32,  4.00316947e-01]])\n",
            "array([[ 1.38356286e+01,  1.66680564e-14, -5.72486803e-16],\n",
            "       [ 1.75788655e-14, -5.23594559e+00,  4.01499535e-16],\n",
            "       [ 2.27360686e-30,  2.41211388e-32,  4.00316947e-01]])\n",
            "array([[ 1.38356286e+01,  7.56334260e-15, -5.72486803e-16],\n",
            "       [ 6.65253351e-15, -5.23594559e+00, -4.01499535e-16],\n",
            "       [-4.78085612e-31, -2.22769445e-32,  4.00316947e-01]])\n",
            "array([[ 1.38356286e+01,  1.60677102e-15, -5.72486803e-16],\n",
            "       [ 2.51758011e-15, -5.23594559e+00,  4.01499535e-16],\n",
            "       [-3.48013649e-31,  2.05737492e-32,  4.00316947e-01]])\n",
            "array([[ 1.38356286e+01,  1.86356034e-15, -5.72486803e-16],\n",
            "       [ 9.52751250e-16, -5.23594559e+00, -4.01499535e-16],\n",
            "       [-1.24111100e-30, -1.90007724e-32,  4.00316947e-01]])\n",
            "array([[ 1.38356286e+01, -5.50250573e-16, -5.72486803e-16],\n",
            "       [ 3.60558515e-16, -5.23594559e+00,  4.01499535e-16],\n",
            "       [-2.23258682e-30,  1.75480585e-32,  4.00316947e-01]])\n",
            "array([[ 1.38356286e+01,  1.04725860e-15, -5.72486803e-16],\n",
            "       [ 1.36449511e-16, -5.23594559e+00, -4.01499535e-16],\n",
            "       [ 1.47248504e-30, -1.62064125e-32,  4.00316947e-01]])\n",
            "array([[ 1.38356286e+01, -8.59171231e-16, -5.72486803e-16],\n",
            "       [ 5.16378572e-17, -5.23594559e+00,  4.01499535e-16],\n",
            "       [ 1.37823698e-30,  1.49673428e-32,  4.00316947e-01]])\n",
            "array([[ 1.38356286e+01,  9.30350882e-16, -5.72486803e-16],\n",
            "       [ 1.95417944e-17, -5.23594559e+00, -4.01499535e-16],\n",
            "       [ 1.46990498e-30, -1.38230068e-32,  4.00316947e-01]])\n",
            "array([[ 1.38356286e+01, -9.03413705e-16, -5.72486803e-16],\n",
            "       [ 7.39538297e-18, -5.23594559e+00,  4.01499535e-16],\n",
            "       [ 1.49283536e-30,  1.27661617e-32,  4.00316947e-01]])\n",
            "array([[ 1.38356286e+01,  9.13607791e-16, -5.72486803e-16],\n",
            "       [ 2.79870354e-18, -5.23594559e+00, -4.01499535e-16],\n",
            "       [ 1.54344595e-30, -1.17901181e-32,  4.00316947e-01]])\n",
            "array([[ 1.38356286e+01, -9.09749948e-16, -5.72486803e-16],\n",
            "       [ 1.05913940e-18, -5.23594559e+00,  4.01499535e-16],\n",
            "       [ 1.58529669e-30,  1.08886985e-32,  4.00316947e-01]])\n",
            "array([[ 1.38356286e+01,  9.11209908e-16, -5.72486803e-16],\n",
            "       [ 4.00819973e-19, -5.23594559e+00, -4.01499535e-16],\n",
            "       [ 1.63222758e-30, -1.00561974e-32,  4.00316947e-01]])\n",
            "array([[ 1.38356286e+01, -9.10657402e-16, -5.72486803e-16],\n",
            "       [ 1.51686029e-19, -5.23594559e+00,  4.01499535e-16],\n",
            "       [ 1.67905208e-30,  9.28734558e-33,  4.00316947e-01]])\n",
            "array([[ 1.38356286e+01,  9.10866492e-16, -5.72486803e-16],\n",
            "       [ 5.74039544e-20, -5.23594559e+00, -4.01499535e-16],\n",
            "       [ 1.72778552e-30, -8.57727674e-33,  4.00316947e-01]])\n",
            "array([[ 1.38356286e+01, -9.10787364e-16, -5.72486803e-16],\n",
            "       [ 2.17239122e-20, -5.23594559e+00,  4.01499535e-16],\n",
            "       [-1.63032607e-30,  7.92149658e-33,  4.00316947e-01]])\n",
            "From linalg:\n",
            "[13.83562865 -5.23594559  0.40031695]\n",
            "[[ 0.57167378  0.82014068  0.02362968]\n",
            " [ 0.3778125  -0.23756858 -0.89488484]\n",
            " [ 0.72831779 -0.52050979  0.44567113]]\n",
            "\n",
            "From qr_iteration:\n",
            "[[ 1.38356286e+01 -9.10787364e-16 -5.72486803e-16]\n",
            " [ 2.17239122e-20 -5.23594559e+00  4.01499535e-16]\n",
            " [-1.63032607e-30  7.92149658e-33  4.00316947e-01]]\n",
            "[[ 0.57167378 -0.82014068  0.02362968]\n",
            " [ 0.3778125   0.23756858 -0.89488484]\n",
            " [ 0.72831779  0.52050979  0.44567113]]\n"
          ]
        }
      ]
    }
  ]
}