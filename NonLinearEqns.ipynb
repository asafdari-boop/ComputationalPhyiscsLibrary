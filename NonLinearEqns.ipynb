{
  "nbformat": 4,
  "nbformat_minor": 0,
  "metadata": {
    "colab": {
      "provenance": [],
      "include_colab_link": true
    },
    "kernelspec": {
      "name": "python3",
      "display_name": "Python 3"
    },
    "language_info": {
      "name": "python"
    }
  },
  "cells": [
    {
      "cell_type": "markdown",
      "metadata": {
        "id": "view-in-github",
        "colab_type": "text"
      },
      "source": [
        "<a href=\"https://colab.research.google.com/github/asafdari-boop/ComputationalPhyiscsLibrary/blob/main/NonLinearEqns.ipynb\" target=\"_parent\"><img src=\"https://colab.research.google.com/assets/colab-badge.svg\" alt=\"Open In Colab\"/></a>"
      ]
    },
    {
      "cell_type": "markdown",
      "metadata": {
        "id": "Y4qG00NBcv5c"
      },
      "source": [
        "# The relaxation method"
      ]
    },
    {
      "cell_type": "code",
      "metadata": {
        "id": "PCYL-_f65JCY",
        "colab": {
          "base_uri": "https://localhost:8080/"
        },
        "outputId": "41fe2670-bb0c-489a-d338-f378f5bcd80e"
      },
      "source": [
        "import numpy as np\n",
        "\n",
        "def f(x):\n",
        "    return 2-np.exp(-x)\n",
        "\n",
        "def f2(x):\n",
        "    return np.exp(1-x**2)\n",
        "\n",
        "# relaxation method\n",
        "def relaxation(f, x, tolerance):\n",
        "    error = 999.\n",
        "    iterations = 0\n",
        "\n",
        "    # here the code will stop after 20 iterations since f2 will not converge\n",
        "    while error > tolerance and iterations < 20:\n",
        "        tmp = x\n",
        "        x = f(x)\n",
        "        error = np.abs(tmp-x)\n",
        "        iterations += 1\n",
        "        print(\"x=\", tmp, \" new x=\", x, \" diff=\", error)\n",
        "\n",
        "if __name__==\"__main__\":\n",
        "    x= 0.5\n",
        "    print(\"for the first function x=2-e^(-x):\")\n",
        "    relaxation(f, x, 10**-9)\n",
        "    print(\"\\n\")\n",
        "    print(\"for the second function x=e^(1-x**2):\")\n",
        "    relaxation(f2, x, 1e-2)"
      ],
      "execution_count": null,
      "outputs": [
        {
          "output_type": "stream",
          "name": "stdout",
          "text": [
            "for the first function x=2-e^(-x):\n",
            "x= 0.5  new x= 1.3934693402873666  diff= 0.8934693402873666\n",
            "x= 1.3934693402873666  new x= 1.751787325113973  diff= 0.3583179848266065\n",
            "x= 1.751787325113973  new x= 1.8265363696849992  diff= 0.07474904457102616\n",
            "x= 1.8265363696849992  new x= 1.8390298555971287  diff= 0.01249348591212951\n",
            "x= 1.8390298555971287  new x= 1.841028423293983  diff= 0.0019985676968543586\n",
            "x= 1.841028423293983  new x= 1.8413458214753817  diff= 0.0003173981813986426\n",
            "x= 1.8413458214753817  new x= 1.8413961700324237  diff= 5.0348557042001474e-05\n",
            "x= 1.8413961700324237  new x= 1.8414041553053788  diff= 7.985272955091105e-06\n",
            "x= 1.8414041553053788  new x= 1.8414054217314317  diff= 1.2664260529149374e-06\n",
            "x= 1.8414054217314317  new x= 1.8414056225796105  diff= 2.0084817875520855e-07\n",
            "x= 1.8414056225796105  new x= 1.841405654432999  diff= 3.185338859346132e-08\n",
            "x= 1.841405654432999  new x= 1.8414056594847663  diff= 5.051767226760262e-09\n",
            "x= 1.8414056594847663  new x= 1.841405660285948  diff= 8.011817875797078e-10\n",
            "\n",
            "\n",
            "for the second function x=e^(1-x**2):\n",
            "x= 0.5  new x= 2.117000016612675  diff= 1.6170000166126748\n",
            "x= 2.117000016612675  new x= 0.030755419069985038  diff= 2.0862445975426898\n",
            "x= 0.030755419069985038  new x= 2.715711832754083  diff= 2.6849564136840978\n",
            "x= 2.715711832754083  new x= 0.0017034651847384463  diff= 2.7140083675693445\n",
            "x= 0.0017034651847384463  new x= 2.71827394057758  diff= 2.716570475392842\n",
            "x= 2.71827394057758  new x= 0.001679913095081425  diff= 2.7165940274824987\n",
            "x= 0.001679913095081425  new x= 2.7182741571849562  diff= 2.7165942440898747\n",
            "x= 2.7182741571849562  new x= 0.0016799111168229455  diff= 2.716594246068133\n",
            "x= 0.0016799111168229455  new x= 2.7182741572030236  diff= 2.7165942460862005\n",
            "x= 2.7182741572030236  new x= 0.0016799111166579386  diff= 2.7165942460863657\n",
            "x= 0.0016799111166579386  new x= 2.7182741572030253  diff= 2.7165942460863675\n",
            "x= 2.7182741572030253  new x= 0.0016799111166579221  diff= 2.7165942460863675\n",
            "x= 0.0016799111166579221  new x= 2.7182741572030253  diff= 2.7165942460863675\n",
            "x= 2.7182741572030253  new x= 0.0016799111166579221  diff= 2.7165942460863675\n",
            "x= 0.0016799111166579221  new x= 2.7182741572030253  diff= 2.7165942460863675\n",
            "x= 2.7182741572030253  new x= 0.0016799111166579221  diff= 2.7165942460863675\n",
            "x= 0.0016799111166579221  new x= 2.7182741572030253  diff= 2.7165942460863675\n",
            "x= 2.7182741572030253  new x= 0.0016799111166579221  diff= 2.7165942460863675\n",
            "x= 0.0016799111166579221  new x= 2.7182741572030253  diff= 2.7165942460863675\n",
            "x= 2.7182741572030253  new x= 0.0016799111166579221  diff= 2.7165942460863675\n"
          ]
        }
      ]
    },
    {
      "cell_type": "markdown",
      "metadata": {
        "id": "Pl-MD3PoeHGa"
      },
      "source": [
        "**Overrelaxation**"
      ]
    },
    {
      "cell_type": "code",
      "metadata": {
        "id": "azWDGTaSeCmp",
        "colab": {
          "base_uri": "https://localhost:8080/",
          "height": 820
        },
        "outputId": "e57fd0a6-60e7-4ddd-cd8d-680e49d0a028"
      },
      "source": [
        "import numpy as np\n",
        "import matplotlib.pyplot as plt\n",
        "\n",
        "# Constants\n",
        "accuracy = 10**-8\n",
        "\n",
        "def f(x, c):\n",
        "    return 1 - np.exp(- c * x)\n",
        "\n",
        "def f_prime(x, c):\n",
        "        return c * np.exp(- c * x)\n",
        "\n",
        "def relaxation_error(x1, x2, c):\n",
        "    return (x1 - x2) / (1 - 1 / f_prime(x1, c))\n",
        "\n",
        "def overrelaxation_error(x1, x2, c, omega):\n",
        "    return (x1 - x2) / (1 - 1 / ((1 + omega) * f_prime(x1, c) - omega))\n",
        "\n",
        "def eqn(x, c):\n",
        "    return x - 1 + np.exp(- c * x)\n",
        "\n",
        "####################################\n",
        "# the relaxation method\n",
        "####################################\n",
        "def relaxation(c):\n",
        "    iterations = 0\n",
        "\n",
        "    x1 = 0.5 # starting value\n",
        "    x2 = f(x1, c)\n",
        "    print(\"Initial x = \", x1)\n",
        "    while(abs(relaxation_error(x1, x2, c)) > accuracy):\n",
        "        x1 = x2 \n",
        "        x2 = f(x1, c)\n",
        "        iterations += 1\n",
        "        print(\"x = \", x2)\n",
        "\n",
        "    print('number of iterations = ', iterations)\n",
        "    return x2\n",
        "\n",
        "####################################\n",
        "# the overlaxation method\n",
        "####################################\n",
        "def overrelaxation(c, omega):\n",
        "    iterations = 0\n",
        "\n",
        "    x1 = 0.5  # starting value\n",
        "    x2 = (1 + omega) * f(x1, c) - omega * x1\n",
        "    print(\"Initial x = \", x1)\n",
        "\n",
        "    while abs(overrelaxation_error(x1, x2, c, omega)) > accuracy:\n",
        "        x1 = x2 \n",
        "        x2 = (1 + omega) * f(x1, c) - omega * x1\n",
        "        iterations += 1\n",
        "        print(\"x = \", x2)\n",
        "    print('For omega = ', omega,'number of iterations = ', iterations)\n",
        "    return x2\n",
        "\n",
        "x = np.linspace(-0.3, 2, 200)\n",
        "y = eqn(x, 2)\n",
        "plt.plot(x, y)\n",
        "plt.grid()\n",
        "plt.show()\n",
        "\n",
        "# relaxation method\n",
        "print(\"Root using the relaxation method: \", relaxation(2))\n",
        "print(\"\\n\")\n",
        "\n",
        "# overrelaxation method\n",
        "print(\"Root using the overrelaxation method: \", overrelaxation(2, 0.75))\n",
        "\n",
        "# We might want to use an omega < 0 if at each iteration the function overshoots the solution, i.e., we start at x=2\n",
        "# and the next iteration gives x=3, but the solution is 2.5"
      ],
      "execution_count": null,
      "outputs": [
        {
          "output_type": "display_data",
          "data": {
            "image/png": "[encoded data removed]",
            "text/plain": [
              "<Figure size 432x288 with 1 Axes>"
            ]
          },
          "metadata": {
            "needs_background": "light"
          }
        },
        {
          "output_type": "stream",
          "name": "stdout",
          "text": [
            "Initial x =  0.5\n",
            "x =  0.7175464361494597\n",
            "x =  0.7619067492797049\n",
            "x =  0.7821205821947897\n",
            "x =  0.7907532631816485\n",
            "x =  0.794334975085306\n",
            "x =  0.7958029765851733\n",
            "x =  0.7964016204183796\n",
            "x =  0.7966452403764663\n",
            "x =  0.7967442987979305\n",
            "x =  0.7967845631871013\n",
            "x =  0.7968009272190715\n",
            "x =  0.7968075774224933\n",
            "x =  0.7968102799464087\n",
            "x =  0.7968113781935964\n",
            "x =  0.7968118244957711\n",
            "x =  0.7968120058623394\n",
            "x =  0.7968120795653444\n",
            "x =  0.7968121095164629\n",
            "x =  0.7968121216878716\n",
            "number of iterations =  19\n",
            "Root using the relaxation method:  0.7968121216878716\n",
            "\n",
            "\n",
            "Initial x =  0.5\n",
            "x =  0.7961614102653574\n",
            "x =  0.7968371043123295\n",
            "x =  0.7968111595136407\n",
            "x =  0.7968121677162006\n",
            "x =  0.7968121285558069\n",
            "For omega =  0.75 number of iterations =  5\n",
            "Root using the overrelaxation method:  0.7968121285558069\n"
          ]
        }
      ]
    },
    {
      "cell_type": "markdown",
      "metadata": {
        "id": "ScU77osAdPeX"
      },
      "source": [
        "**Iterative method to solve linear equations**\n",
        "\n",
        "$3x_1 - 0.1x_2 - 0.2x_3 = 7.85$ \\\\\n",
        "$0.1x_1 + 7x_2 - 0.3x_3 = -19.3$ \\\\\n",
        "$0.3x_1-0.2x_2+10x_3 = 71.4$\n",
        "\n",
        "which means:\n",
        "\n",
        "$x_1 = (7.85+0.1x_2+0.2x_3)/3$ \\\\\n",
        "$x_2 = (-19.3-0.1x_1+0.3x_3)/7$ \\\\\n",
        "$x_3 = (71.4-0.3x_1+0.2x_2)/10$\n"
      ]
    },
    {
      "cell_type": "code",
      "metadata": {
        "id": "jsakMnBxdCRB",
        "colab": {
          "base_uri": "https://localhost:8080/"
        },
        "outputId": "7d3b7bb2-a268-48d1-b953-9ca2b86e516f"
      },
      "source": [
        "import numpy as np\n",
        "\n",
        "def x1(y ,z):\n",
        "    return (7.85+0.1*y+0.2*z)/3\n",
        "\n",
        "def x2(x, z):\n",
        "    return (-19.3-0.1*x+0.3*z)/7\n",
        "\n",
        "def x3(x, y):\n",
        "    return (71.4-0.3*x+0.2*y)/10\n",
        "\n",
        "if __name__==\"__main__\":\n",
        "    x, y, z = 0., 0., 0.\n",
        "\n",
        "    for i in range(10):\n",
        "        x = x1(y, z)\n",
        "        y = x2(x, z)\n",
        "        z = x3(x, y)\n",
        "        print(\"x1: \", x, \" x2: \", y, \" x3: \", z)\n",
        "\n",
        "    print(\"x1 = \", x)\n",
        "    print(\"x2 = \", y)\n",
        "    print(\"x3 = \", z)"
      ],
      "execution_count": null,
      "outputs": [
        {
          "output_type": "stream",
          "name": "stdout",
          "text": [
            "x1:  2.6166666666666667  x2:  -2.7945238095238096  x3:  7.005609523809525\n",
            "x1:  2.990556507936508  x2:  -2.499624684807256  x3:  7.00029081106576\n",
            "x1:  3.0000318979108087  x2:  -2.499987992353051  x3:  6.999999283215615\n",
            "x1:  3.000000352469273  x2:  -2.5000000357546064  x3:  6.99999998871083\n",
            "x1:  2.9999999980555683  x2:  -2.500000000456044  x3:  7.000000000049214\n",
            "x1:  2.9999999999880793  x2:  -2.4999999999977205  x3:  7.000000000000403\n",
            "x1:  3.000000000000103  x2:  -2.4999999999999845  x3:  6.999999999999997\n",
            "x1:  3.0  x2:  -2.5000000000000004  x3:  7.0\n",
            "x1:  3.0  x2:  -2.5  x3:  7.0\n",
            "x1:  3.0  x2:  -2.5  x3:  7.0\n",
            "x1 =  3.0\n",
            "x2 =  -2.5\n",
            "x3 =  7.0\n"
          ]
        }
      ]
    },
    {
      "cell_type": "markdown",
      "metadata": {
        "id": "0EFFD6BXfzNU"
      },
      "source": [
        "# Bisection method"
      ]
    },
    {
      "cell_type": "code",
      "metadata": {
        "id": "1VG_Dpb_fS4L",
        "colab": {
          "base_uri": "https://localhost:8080/",
          "height": 803
        },
        "outputId": "4acfed5c-3b20-4e5a-9d09-5ef320cff3c5"
      },
      "source": [
        "## module bisection\n",
        "from math import log,ceil,tan\n",
        "import numpy as np\n",
        "import matplotlib.pyplot as plt\n",
        "\n",
        "#Find all the zeroes of f (x) = x − tan x \n",
        "#in the interval (0, 2) by the method of bisection.\n",
        "def func(x): \n",
        "    return x-np.tan(x)\n",
        "\n",
        "# bisection method and we already have f(x1)*f(x2)<0\n",
        "def bisection(f, x1, x2, tol=1.0e-9):\n",
        "    f1 = f(x1)\n",
        "    if abs(f1)<1.0e-10: return x1\n",
        "    f2 = f(x2)\n",
        "    if abs(f2)<1.0e-10: return x2\n",
        "    if f1*f2 > 0.0: \n",
        "        print(\"Root is not bracketed\")\n",
        "\n",
        "    # The method ceil() returns ceiling value of x, the smallest integer not less than x.\n",
        "    n = ceil(log(abs(x2 - x1)/tol)/log(2.0))\n",
        "\n",
        "    for i in range(n):\n",
        "        print(\"x1 = \", x1, \" x2 = \", x2)\n",
        "        x3 = 0.5*(x1 + x2)\n",
        "        f3 = f(x3)\n",
        "\n",
        "        if abs(f3)<1.0e-10: return x3\n",
        "        if f2*f3 < 0.0: \n",
        "            x1 = x3\n",
        "            f1 = f3\n",
        "        else: \n",
        "            x2 = x3\n",
        "            f2 = f3\n",
        "    return (x1 + x2)/2.0\n",
        "\n",
        "if __name__==\"__main__\":\n",
        "    x1 = 1.\n",
        "    x2 = 2.\n",
        "    root = bisection(func, x1, x2)\n",
        "    print(\"  root=\", root)\n",
        "\n",
        "    x = np.linspace(0., 2., 50)\n",
        "    y = func(x)\n",
        "    plt.plot(x, y)\n",
        "    plt.scatter(x1, 0., marker='x', s=200, color='green')  # initial value\n",
        "    plt.scatter(x2, 0., marker='x', s=200, color='green')  # initial value\n",
        "    plt.scatter(root, 0., marker='x', s=200, color='red')  # plot the root\n",
        "    plt.grid()\n",
        "    plt.show()"
      ],
      "execution_count": null,
      "outputs": [
        {
          "output_type": "stream",
          "name": "stdout",
          "text": [
            "x1 =  1.0  x2 =  2.0\n",
            "x1 =  1.5  x2 =  2.0\n",
            "x1 =  1.5  x2 =  1.75\n",
            "x1 =  1.5  x2 =  1.625\n",
            "x1 =  1.5625  x2 =  1.625\n",
            "x1 =  1.5625  x2 =  1.59375\n",
            "x1 =  1.5625  x2 =  1.578125\n",
            "x1 =  1.5703125  x2 =  1.578125\n",
            "x1 =  1.5703125  x2 =  1.57421875\n",
            "x1 =  1.5703125  x2 =  1.572265625\n",
            "x1 =  1.5703125  x2 =  1.5712890625\n",
            "x1 =  1.5703125  x2 =  1.57080078125\n",
            "x1 =  1.570556640625  x2 =  1.57080078125\n",
            "x1 =  1.5706787109375  x2 =  1.57080078125\n",
            "x1 =  1.57073974609375  x2 =  1.57080078125\n",
            "x1 =  1.570770263671875  x2 =  1.57080078125\n",
            "x1 =  1.5707855224609375  x2 =  1.57080078125\n",
            "x1 =  1.5707931518554688  x2 =  1.57080078125\n",
            "x1 =  1.5707931518554688  x2 =  1.5707969665527344\n",
            "x1 =  1.5707950592041016  x2 =  1.5707969665527344\n",
            "x1 =  1.570796012878418  x2 =  1.5707969665527344\n",
            "x1 =  1.570796012878418  x2 =  1.5707964897155762\n",
            "x1 =  1.570796251296997  x2 =  1.5707964897155762\n",
            "x1 =  1.570796251296997  x2 =  1.5707963705062866\n",
            "x1 =  1.5707963109016418  x2 =  1.5707963705062866\n",
            "x1 =  1.5707963109016418  x2 =  1.5707963407039642\n",
            "x1 =  1.570796325802803  x2 =  1.5707963407039642\n",
            "x1 =  1.570796325802803  x2 =  1.5707963332533836\n",
            "x1 =  1.570796325802803  x2 =  1.5707963295280933\n",
            "x1 =  1.570796325802803  x2 =  1.5707963276654482\n",
            "  root= 1.570796327199787\n"
          ]
        },
        {
          "output_type": "display_data",
          "data": {
            "text/plain": [
              "<Figure size 432x288 with 1 Axes>"
            ],
            "image/png": "[encoded data removed]"
          },
          "metadata": {
            "needs_background": "light"
          }
        }
      ]
    },
    {
      "cell_type": "markdown",
      "metadata": {
        "id": "uFMeaLkWejqB"
      },
      "source": [
        "#Newton's method"
      ]
    },
    {
      "cell_type": "code",
      "metadata": {
        "id": "VCodgy8nenUn",
        "colab": {
          "base_uri": "https://localhost:8080/",
          "height": 421
        },
        "outputId": "0509efd1-467c-4e7c-8516-7b969aabfb2d"
      },
      "source": [
        "import numpy as np\n",
        "import matplotlib.pyplot as plt\n",
        "\n",
        "def f(x):\n",
        "    return x**3 - x**2 - 1\n",
        "\n",
        "def Df(x):\n",
        "    return 3*x**2 - 2*x\n",
        "\n",
        "# Newton's method to find the solution of f(x)=0\n",
        "def Newton(f, Df, x0, epsilon, max_iter):\n",
        "    xn = x0\n",
        "    xlist = []\n",
        "\n",
        "    for n in range(max_iter):\n",
        "        xlist.append(xn)\n",
        "\n",
        "        fxn = f(xn)\n",
        "        if abs(fxn) < epsilon:\n",
        "            print('Found solution after', n, 'iterations.')\n",
        "            return xn, xlist\n",
        "        Dfxn = Df(xn)\n",
        "        \n",
        "        if abs(Dfxn) < 1e-10:\n",
        "            print('Zero derivative. No solution found.')\n",
        "            return None, xlist\n",
        "        xn = xn - fxn/Dfxn\n",
        "        print(\"x = \", xn)\n",
        "    return None, xlist\n",
        "\n",
        "if __name__==\"__main__\":\n",
        "    solution, xlist = Newton(f, Df, 1, 1e-10, 10)\n",
        "    print(\"Root = \", solution)\n",
        "    print(\"Points used: \", xlist)\n",
        "\n",
        "    x = np.linspace(0, 3, 200)\n",
        "    y = f(x)\n",
        "    plt.plot(x, y)\n",
        "    plt.scatter(solution, f(solution), marker='x', s=200, color='red')  # plot the root\n",
        "    plt.grid()\n",
        "    plt.show()"
      ],
      "execution_count": null,
      "outputs": [
        {
          "output_type": "stream",
          "name": "stdout",
          "text": [
            "x =  2.0\n",
            "x =  1.625\n",
            "x =  1.4857859531772575\n",
            "x =  1.4659559197359893\n",
            "x =  1.4655713749070918\n",
            "x =  1.4655712318767877\n",
            "Found solution after 6 iterations.\n",
            "Root =  1.4655712318767877\n",
            "Points used:  [1, 2.0, 1.625, 1.4857859531772575, 1.4659559197359893, 1.4655713749070918, 1.4655712318767877]\n"
          ]
        },
        {
          "output_type": "display_data",
          "data": {
            "image/png": "[encoded data removed]",
            "text/plain": [
              "<Figure size 432x288 with 1 Axes>"
            ]
          },
          "metadata": {
            "needs_background": "light"
          }
        }
      ]
    },
    {
      "cell_type": "markdown",
      "metadata": {
        "id": "UlGZi1zmf4Bk"
      },
      "source": [
        "**Secant method**"
      ]
    },
    {
      "cell_type": "code",
      "metadata": {
        "id": "_Se6AQ-GfmDc",
        "colab": {
          "base_uri": "https://localhost:8080/",
          "height": 542
        },
        "outputId": "3a8b2ec3-2ace-4deb-af65-92dd76810877"
      },
      "source": [
        "import sys as sys\n",
        "import numpy as np\n",
        "import matplotlib.pylab as plt\n",
        "\n",
        "# define function\n",
        "def func(x):\n",
        "    return x**3 - 2*x - 1\n",
        "\n",
        "# use the secant method to find the root of equation\n",
        "def secant(func, x0, x1, tol=1e-9, max_iters=100):\n",
        "    f_x0 = func(x0)\n",
        "    f_x1 = func(x1)\n",
        "    iterations = 0\n",
        "\n",
        "    while abs(f_x1) > tol and iterations < max_iters:\n",
        "        try:\n",
        "            denominator = (f_x1 - f_x0)/(x1 - x0)\n",
        "            x = x1 - (f_x1)/denominator\n",
        "            print(\"x0=\", x0, \" x1=\", x1, \" x=\", x)\n",
        "        except ZeroDivisionError:\n",
        "            print(\"Denominator is zero for x = \", x)\n",
        "            sys.exit(1)     # Abort with error\n",
        "       \n",
        "        x0, x1 = x1, x\n",
        "        f_x0, f_x1 = f_x1, func(x1)\n",
        "        iterations += 1\n",
        "\n",
        "    # if too many iterations, return x = None\n",
        "    if abs(f_x1) > tol:\n",
        "        iterations = -1\n",
        "        x = None\n",
        "    return x\n",
        "\n",
        "if __name__==\"__main__\":\n",
        "    x0 = 20.\n",
        "    x1 = x0 - 1\n",
        "    solution = secant(func, x0, x1, 1.0e-9)\n",
        "    print(\"Solution=\", solution)\n",
        "\n",
        "    x = np.linspace(-1.5, 2., 100)\n",
        "    y = func(x)\n",
        "    plt.plot(x, y)\n",
        "    plt.scatter(solution, func(solution), marker='x', s=200, color='red')  # plot the root\n",
        "    plt.grid()\n",
        "    plt.show()"
      ],
      "execution_count": null,
      "outputs": [
        {
          "output_type": "stream",
          "name": "stdout",
          "text": [
            "x0= 20.0  x1= 19.0  x= 13.012291483757682\n",
            "x0= 19.0  x1= 13.012291483757682  x= 10.206277785522822\n",
            "x0= 13.012291483757682  x1= 10.206277785522822  x= 7.629554508158437\n",
            "x0= 10.206277785522822  x1= 7.629554508158437  x= 5.833699661144017\n",
            "x0= 7.629554508158437  x1= 5.833699661144017  x= 4.454371817761728\n",
            "x0= 5.833699661144017  x1= 4.454371817761728  x= 3.446493365806835\n",
            "x0= 4.454371817761728  x1= 3.446493365806835  x= 2.7133160797086835\n",
            "x0= 3.446493365806835  x1= 2.7133160797086835  x= 2.20379752062199\n",
            "x0= 2.7133160797086835  x1= 2.20379752062199  x= 1.8768740013996337\n",
            "x0= 2.20379752062199  x1= 1.8768740013996337  x= 1.7002004661963386\n",
            "x0= 1.8768740013996337  x1= 1.7002004661963386  x= 1.6325636591965662\n",
            "x0= 1.7002004661963386  x1= 1.6325636591965662  x= 1.6189674795403475\n",
            "x0= 1.6325636591965662  x1= 1.6189674795403475  x= 1.6180451277488552\n",
            "x0= 1.6189674795403475  x1= 1.6180451277488552  x= 1.6180339973667586\n",
            "x0= 1.6180451277488552  x1= 1.6180339973667586  x= 1.6180339887499744\n",
            "Solution= 1.6180339887499744\n"
          ]
        },
        {
          "output_type": "display_data",
          "data": {
            "image/png": "[encoded data removed]",
            "text/plain": [
              "<Figure size 432x288 with 1 Axes>"
            ]
          },
          "metadata": {
            "needs_background": "light"
          }
        }
      ]
    },
    {
      "cell_type": "markdown",
      "metadata": {
        "id": "6_iKiLdEgAy0"
      },
      "source": [
        "**Search for multiple roots**"
      ]
    },
    {
      "cell_type": "code",
      "metadata": {
        "id": "REmgv-_HfPOb",
        "colab": {
          "base_uri": "https://localhost:8080/",
          "height": 1000
        },
        "outputId": "00783d88-7528-4d51-8485-262b2c65f1f2"
      },
      "source": [
        "from math import log,ceil,tan\n",
        "import numpy as np\n",
        "import matplotlib.pyplot as plt\n",
        "\n",
        "#Find all the zeroes of f (x) = x − tan x \n",
        "#in the interval (0, 20) by the method of bisection/Sectant\n",
        "def func(x): \n",
        "    return x-np.tan(x)\n",
        "\n",
        "## module rootsearch\n",
        "#x1,x2 = rootsearch(func,a,b,dx)\n",
        "#return x1 and x2 values where func(x1)*func(x2)<0 where x2=x1+dx\n",
        "#Returns x1 = x2 = None if no roots were detected.\n",
        "#be careful with dx here, if it is too large, we may miss some roots\n",
        "def rootsearch(func, a, b, dx):\n",
        "    x1, x2 = a, a+dx\n",
        "    f1, f2 = func(x1), func(x2)\n",
        "\n",
        "    if x2 > b:\n",
        "        return None, None\n",
        "\n",
        "    while f1*f2 > 0.0:\n",
        "        if x1 >= b: \n",
        "            return None, None\n",
        "        x1, x2 = x2, x1+dx\n",
        "        f1, f2 = f2, func(x2)\n",
        "    else:\n",
        "        return x1, x2\n",
        "\n",
        "if __name__==\"__main__\":\n",
        "    a,b,dx = (0.0, 15.0, .01)\n",
        "    roots = []\n",
        "    print(\"The roots are:\")\n",
        "    while 1:\n",
        "        x1, x2 = rootsearch(func, a, b, dx)\n",
        "        if x1 != None:\n",
        "            a = x2\n",
        "            root = bisection(func, x1, x2)\n",
        "            roots.append(root)\n",
        "            #root = secant(func, x1, x2)\n",
        "            if root != None: \n",
        "                print(\"  root=\", root)\n",
        "        else:\n",
        "            print(\"Done\")\n",
        "            break\n",
        "\n",
        "    x = np.linspace(0., 15, 200)\n",
        "    y = func(x)\n",
        "    plt.plot(x,y)\n",
        "    for ii in range(len(roots)):\n",
        "        plt.scatter(roots[ii], 0., marker='x', s=100, color='red')  # plot all roots\n",
        "    plt.grid()\n",
        "    plt.show()"
      ],
      "execution_count": null,
      "outputs": [
        {
          "output_type": "stream",
          "name": "stdout",
          "text": [
            "The roots are:\n",
            "  root= 0.0\n",
            "x1 =  1.5700000000000012  x2 =  1.5800000000000012\n",
            "x1 =  1.5700000000000012  x2 =  1.575000000000001\n",
            "x1 =  1.5700000000000012  x2 =  1.5725000000000011\n",
            "x1 =  1.5700000000000012  x2 =  1.5712500000000011\n",
            "x1 =  1.570625000000001  x2 =  1.5712500000000011\n",
            "x1 =  1.570625000000001  x2 =  1.5709375000000012\n",
            "x1 =  1.5707812500000011  x2 =  1.5709375000000012\n",
            "x1 =  1.5707812500000011  x2 =  1.5708593750000013\n",
            "x1 =  1.5707812500000011  x2 =  1.5708203125000013\n",
            "x1 =  1.5707812500000011  x2 =  1.5708007812500013\n",
            "x1 =  1.5707910156250011  x2 =  1.5708007812500013\n",
            "x1 =  1.5707958984375012  x2 =  1.5708007812500013\n",
            "x1 =  1.5707958984375012  x2 =  1.5707983398437513\n",
            "x1 =  1.5707958984375012  x2 =  1.5707971191406263\n",
            "x1 =  1.5707958984375012  x2 =  1.5707965087890639\n",
            "x1 =  1.5707962036132825  x2 =  1.5707965087890639\n",
            "x1 =  1.5707962036132825  x2 =  1.570796356201173\n",
            "x1 =  1.5707962799072277  x2 =  1.570796356201173\n",
            "x1 =  1.5707963180542004  x2 =  1.570796356201173\n",
            "x1 =  1.5707963180542004  x2 =  1.5707963371276867\n",
            "x1 =  1.5707963180542004  x2 =  1.5707963275909436\n",
            "x1 =  1.5707963228225719  x2 =  1.5707963275909436\n",
            "x1 =  1.5707963252067576  x2 =  1.5707963275909436\n",
            "x1 =  1.5707963263988507  x2 =  1.5707963275909436\n",
            "  root= 1.5707963266968739\n",
            "x1 =  4.489999999999949  x2 =  4.4999999999999485\n",
            "x1 =  4.489999999999949  x2 =  4.494999999999949\n",
            "x1 =  4.492499999999948  x2 =  4.494999999999949\n",
            "x1 =  4.492499999999948  x2 =  4.493749999999949\n",
            "x1 =  4.4931249999999485  x2 =  4.493749999999949\n",
            "x1 =  4.4931249999999485  x2 =  4.493437499999949\n",
            "x1 =  4.493281249999949  x2 =  4.493437499999949\n",
            "x1 =  4.493359374999949  x2 =  4.493437499999949\n",
            "x1 =  4.493398437499949  x2 =  4.493437499999949\n",
            "x1 =  4.493398437499949  x2 =  4.493417968749949\n",
            "x1 =  4.4934082031249485  x2 =  4.493417968749949\n",
            "x1 =  4.4934082031249485  x2 =  4.493413085937449\n",
            "x1 =  4.4934082031249485  x2 =  4.493410644531199\n",
            "x1 =  4.493409423828074  x2 =  4.493410644531199\n",
            "x1 =  4.493409423828074  x2 =  4.493410034179636\n",
            "x1 =  4.493409423828074  x2 =  4.493409729003854\n",
            "x1 =  4.493409423828074  x2 =  4.493409576415964\n",
            "x1 =  4.493409423828074  x2 =  4.493409500122018\n",
            "x1 =  4.493409423828074  x2 =  4.493409461975046\n",
            "x1 =  4.4934094429015605  x2 =  4.493409461975046\n",
            "x1 =  4.4934094524383035  x2 =  4.493409461975046\n",
            "x1 =  4.493409457206675  x2 =  4.493409461975046\n",
            "x1 =  4.493409457206675  x2 =  4.493409459590861\n",
            "x1 =  4.493409457206675  x2 =  4.493409458398768\n",
            "  root= 4.493409458100745\n",
            "x1 =  4.709999999999944  x2 =  4.719999999999944\n",
            "x1 =  4.709999999999944  x2 =  4.714999999999944\n",
            "x1 =  4.709999999999944  x2 =  4.7124999999999435\n",
            "x1 =  4.711249999999944  x2 =  4.7124999999999435\n",
            "x1 =  4.711874999999944  x2 =  4.7124999999999435\n",
            "x1 =  4.712187499999944  x2 =  4.7124999999999435\n",
            "x1 =  4.712343749999944  x2 =  4.7124999999999435\n",
            "x1 =  4.712343749999944  x2 =  4.712421874999944\n",
            "x1 =  4.712382812499944  x2 =  4.712421874999944\n",
            "x1 =  4.712382812499944  x2 =  4.712402343749943\n",
            "x1 =  4.712382812499944  x2 =  4.712392578124943\n",
            "x1 =  4.712387695312444  x2 =  4.712392578124943\n",
            "x1 =  4.712387695312444  x2 =  4.712390136718693\n",
            "x1 =  4.712388916015568  x2 =  4.712390136718693\n",
            "x1 =  4.712388916015568  x2 =  4.712389526367131\n",
            "x1 =  4.712388916015568  x2 =  4.71238922119135\n",
            "x1 =  4.712388916015568  x2 =  4.712389068603459\n",
            "x1 =  4.712388916015568  x2 =  4.7123889923095135\n",
            "x1 =  4.712388954162541  x2 =  4.7123889923095135\n",
            "x1 =  4.712388973236028  x2 =  4.7123889923095135\n",
            "x1 =  4.712388973236028  x2 =  4.7123889827727705\n",
            "x1 =  4.712388978004399  x2 =  4.7123889827727705\n",
            "x1 =  4.712388978004399  x2 =  4.712388980388585\n",
            "x1 =  4.712388979196492  x2 =  4.712388980388585\n",
            "  root= 4.712388980090562\n",
            "x1 =  7.71999999999988  x2 =  7.72999999999988\n",
            "x1 =  7.72499999999988  x2 =  7.72999999999988\n",
            "x1 =  7.72499999999988  x2 =  7.72749999999988\n",
            "x1 =  7.72499999999988  x2 =  7.7262499999998795\n",
            "x1 =  7.72499999999988  x2 =  7.72562499999988\n",
            "x1 =  7.72499999999988  x2 =  7.72531249999988\n",
            "x1 =  7.7251562499998805  x2 =  7.72531249999988\n",
            "x1 =  7.72523437499988  x2 =  7.72531249999988\n",
            "x1 =  7.72523437499988  x2 =  7.72527343749988\n",
            "x1 =  7.72523437499988  x2 =  7.725253906249881\n",
            "x1 =  7.725244140624881  x2 =  7.725253906249881\n",
            "x1 =  7.725249023437381  x2 =  7.725253906249881\n",
            "x1 =  7.72525146484363  x2 =  7.725253906249881\n",
            "x1 =  7.72525146484363  x2 =  7.725252685546756\n",
            "x1 =  7.72525146484363  x2 =  7.725252075195193\n",
            "x1 =  7.725251770019412  x2 =  7.725252075195193\n",
            "x1 =  7.725251770019412  x2 =  7.725251922607303\n",
            "x1 =  7.725251770019412  x2 =  7.725251846313357\n",
            "x1 =  7.725251808166385  x2 =  7.725251846313357\n",
            "x1 =  7.725251827239871  x2 =  7.725251846313357\n",
            "x1 =  7.725251836776614  x2 =  7.725251846313357\n",
            "x1 =  7.725251836776614  x2 =  7.725251841544986\n",
            "x1 =  7.725251836776614  x2 =  7.7252518391608\n",
            "x1 =  7.725251836776614  x2 =  7.725251837968707\n",
            "  root= 7.725251837074637\n",
            "x1 =  7.849999999999877  x2 =  7.859999999999877\n",
            "x1 =  7.849999999999877  x2 =  7.854999999999877\n",
            "x1 =  7.852499999999877  x2 =  7.854999999999877\n",
            "x1 =  7.853749999999877  x2 =  7.854999999999877\n",
            "x1 =  7.853749999999877  x2 =  7.854374999999877\n",
            "x1 =  7.853749999999877  x2 =  7.854062499999877\n",
            "x1 =  7.853906249999877  x2 =  7.854062499999877\n",
            "x1 =  7.853906249999877  x2 =  7.853984374999877\n",
            "x1 =  7.853945312499877  x2 =  7.853984374999877\n",
            "x1 =  7.853964843749877  x2 =  7.853984374999877\n",
            "x1 =  7.853974609374877  x2 =  7.853984374999877\n",
            "x1 =  7.853979492187377  x2 =  7.853984374999877\n",
            "x1 =  7.853979492187377  x2 =  7.8539819335936265\n",
            "x1 =  7.853980712890502  x2 =  7.8539819335936265\n",
            "x1 =  7.853981323242064  x2 =  7.8539819335936265\n",
            "x1 =  7.853981628417845  x2 =  7.8539819335936265\n",
            "x1 =  7.853981628417845  x2 =  7.853981781005736\n",
            "x1 =  7.853981628417845  x2 =  7.85398170471179\n",
            "x1 =  7.853981628417845  x2 =  7.853981666564818\n",
            "x1 =  7.853981628417845  x2 =  7.853981647491331\n",
            "x1 =  7.853981628417845  x2 =  7.853981637954588\n",
            "x1 =  7.8539816331862164  x2 =  7.853981637954588\n",
            "x1 =  7.8539816331862164  x2 =  7.853981635570403\n",
            "x1 =  7.8539816331862164  x2 =  7.853981634378309\n",
            "  root= 7.853981634080286\n",
            "x1 =  10.899999999999812  x2 =  10.909999999999812\n",
            "x1 =  10.899999999999812  x2 =  10.904999999999813\n",
            "x1 =  10.902499999999812  x2 =  10.904999999999813\n",
            "x1 =  10.903749999999812  x2 =  10.904999999999813\n",
            "x1 =  10.903749999999812  x2 =  10.904374999999813\n",
            "x1 =  10.904062499999814  x2 =  10.904374999999813\n",
            "x1 =  10.904062499999814  x2 =  10.904218749999814\n",
            "x1 =  10.904062499999814  x2 =  10.904140624999814\n",
            "x1 =  10.904101562499815  x2 =  10.904140624999814\n",
            "x1 =  10.904121093749815  x2 =  10.904140624999814\n",
            "x1 =  10.904121093749815  x2 =  10.904130859374813\n",
            "x1 =  10.904121093749815  x2 =  10.904125976562314\n",
            "x1 =  10.904121093749815  x2 =  10.904123535156064\n",
            "x1 =  10.904121093749815  x2 =  10.90412231445294\n",
            "x1 =  10.904121093749815  x2 =  10.904121704101378\n",
            "x1 =  10.904121398925597  x2 =  10.904121704101378\n",
            "x1 =  10.904121551513487  x2 =  10.904121704101378\n",
            "x1 =  10.904121627807433  x2 =  10.904121704101378\n",
            "x1 =  10.904121627807433  x2 =  10.904121665954406\n",
            "x1 =  10.90412164688092  x2 =  10.904121665954406\n",
            "x1 =  10.904121656417663  x2 =  10.904121665954406\n",
            "x1 =  10.904121656417663  x2 =  10.904121661186036\n",
            "x1 =  10.904121658801849  x2 =  10.904121661186036\n",
            "x1 =  10.904121658801849  x2 =  10.904121659993942\n",
            "  root= 10.904121659695917\n",
            "x1 =  10.98999999999981  x2 =  10.99999999999981\n",
            "x1 =  10.99499999999981  x2 =  10.99999999999981\n",
            "x1 =  10.99499999999981  x2 =  10.99749999999981\n",
            "x1 =  10.99499999999981  x2 =  10.99624999999981\n",
            "x1 =  10.99499999999981  x2 =  10.995624999999809\n",
            "x1 =  10.995312499999809  x2 =  10.995624999999809\n",
            "x1 =  10.995468749999809  x2 =  10.995624999999809\n",
            "x1 =  10.995546874999809  x2 =  10.995624999999809\n",
            "x1 =  10.995546874999809  x2 =  10.995585937499808\n",
            "x1 =  10.995566406249807  x2 =  10.995585937499808\n",
            "x1 =  10.995566406249807  x2 =  10.995576171874808\n",
            "x1 =  10.995571289062308  x2 =  10.995576171874808\n",
            "x1 =  10.995573730468557  x2 =  10.995576171874808\n",
            "x1 =  10.995573730468557  x2 =  10.995574951171683\n",
            "x1 =  10.995573730468557  x2 =  10.99557434082012\n",
            "x1 =  10.995574035644339  x2 =  10.99557434082012\n",
            "x1 =  10.99557418823223  x2 =  10.99557434082012\n",
            "x1 =  10.995574264526175  x2 =  10.99557434082012\n",
            "x1 =  10.995574264526175  x2 =  10.995574302673148\n",
            "x1 =  10.995574283599662  x2 =  10.995574302673148\n",
            "x1 =  10.995574283599662  x2 =  10.995574293136405\n",
            "x1 =  10.995574283599662  x2 =  10.995574288368033\n",
            "x1 =  10.995574285983848  x2 =  10.995574288368033\n",
            "x1 =  10.995574287175941  x2 =  10.995574288368033\n",
            "  root= 10.995574287473964\n",
            "x1 =  14.059999999999745  x2 =  14.069999999999744\n",
            "x1 =  14.064999999999745  x2 =  14.069999999999744\n",
            "x1 =  14.064999999999745  x2 =  14.067499999999745\n",
            "x1 =  14.064999999999745  x2 =  14.066249999999744\n",
            "x1 =  14.065624999999745  x2 =  14.066249999999744\n",
            "x1 =  14.065937499999745  x2 =  14.066249999999744\n",
            "x1 =  14.066093749999744  x2 =  14.066249999999744\n",
            "x1 =  14.066171874999744  x2 =  14.066249999999744\n",
            "x1 =  14.066171874999744  x2 =  14.066210937499743\n",
            "x1 =  14.066191406249743  x2 =  14.066210937499743\n",
            "x1 =  14.066191406249743  x2 =  14.066201171874743\n",
            "x1 =  14.066191406249743  x2 =  14.066196289062244\n",
            "x1 =  14.066193847655994  x2 =  14.066196289062244\n",
            "x1 =  14.066193847655994  x2 =  14.066195068359118\n",
            "x1 =  14.066193847655994  x2 =  14.066194458007555\n",
            "x1 =  14.066193847655994  x2 =  14.066194152831773\n",
            "x1 =  14.066193847655994  x2 =  14.066194000243883\n",
            "x1 =  14.066193847655994  x2 =  14.066193923949939\n",
            "x1 =  14.066193885802967  x2 =  14.066193923949939\n",
            "x1 =  14.066193904876453  x2 =  14.066193923949939\n",
            "x1 =  14.066193904876453  x2 =  14.066193914413196\n",
            "x1 =  14.066193909644824  x2 =  14.066193914413196\n",
            "x1 =  14.06619391202901  x2 =  14.066193914413196\n",
            "x1 =  14.06619391202901  x2 =  14.066193913221102\n",
            "  root= 14.06619391292308\n",
            "x1 =  14.129999999999743  x2 =  14.139999999999743\n",
            "x1 =  14.134999999999742  x2 =  14.139999999999743\n",
            "x1 =  14.134999999999742  x2 =  14.137499999999743\n",
            "x1 =  14.136249999999743  x2 =  14.137499999999743\n",
            "x1 =  14.136874999999744  x2 =  14.137499999999743\n",
            "x1 =  14.136874999999744  x2 =  14.137187499999744\n",
            "x1 =  14.137031249999744  x2 =  14.137187499999744\n",
            "x1 =  14.137109374999744  x2 =  14.137187499999744\n",
            "x1 =  14.137148437499743  x2 =  14.137187499999744\n",
            "x1 =  14.137148437499743  x2 =  14.137167968749743\n",
            "x1 =  14.137158203124743  x2 =  14.137167968749743\n",
            "x1 =  14.137163085937242  x2 =  14.137167968749743\n",
            "x1 =  14.137165527343493  x2 =  14.137167968749743\n",
            "x1 =  14.137166748046617  x2 =  14.137167968749743\n",
            "x1 =  14.137166748046617  x2 =  14.13716735839818\n",
            "x1 =  14.137166748046617  x2 =  14.137167053222399\n",
            "x1 =  14.137166900634508  x2 =  14.137167053222399\n",
            "x1 =  14.137166900634508  x2 =  14.137166976928453\n",
            "x1 =  14.13716693878148  x2 =  14.137166976928453\n",
            "x1 =  14.13716693878148  x2 =  14.137166957854966\n",
            "x1 =  14.13716693878148  x2 =  14.137166948318223\n",
            "x1 =  14.13716693878148  x2 =  14.13716694354985\n",
            "x1 =  14.13716693878148  x2 =  14.137166941165665\n",
            "x1 =  14.137166939973572  x2 =  14.137166941165665\n",
            "  root= 14.13716694086764\n",
            "Done\n"
          ]
        },
        {
          "output_type": "display_data",
          "data": {
            "text/plain": [
              "<Figure size 432x288 with 1 Axes>"
            ],
            "image/png": "[encoded data removed]"
          },
          "metadata": {
            "needs_background": "light"
          }
        }
      ]
    },
    {
      "cell_type": "markdown",
      "metadata": {
        "id": "jCzJsd7mcWHr"
      },
      "source": [
        "# Finding maxima or minima of functions"
      ]
    },
    {
      "cell_type": "markdown",
      "metadata": {
        "id": "egMrI1yZhxc0"
      },
      "source": [
        "**Golden ratio search**"
      ]
    },
    {
      "cell_type": "code",
      "metadata": {
        "id": "yiuvzKv-hfn8",
        "colab": {
          "base_uri": "https://localhost:8080/",
          "height": 1000
        },
        "outputId": "f443ca1d-89ec-4cbe-ab67-7b8d1c013be0"
      },
      "source": [
        "from math import sqrt\n",
        "import numpy as np\n",
        "import matplotlib.pyplot as plt\n",
        "\n",
        "# define a function to find the minimum\n",
        "def f(x):\n",
        "    return (x-0.5)**2\n",
        " \n",
        "# find c and d given a and b\n",
        "def golden_ratio(a, b):\n",
        "    z = (1 + sqrt(5))/2\n",
        "\n",
        "    k = (b-a)/2\n",
        "    x = k - 2*k/(z+1)\n",
        "    c = (a + b)/2 - x\n",
        "    d = (a + b)/2 + x\n",
        "    return c, d\n",
        "\n",
        "# a and b are the current bounds; the minimum is between them.\n",
        "def goldenSectionSearch(f, a, b, absolutePrecision):\n",
        "    c, d = golden_ratio(a, b)\n",
        "    print(\"a=\", a, \"c=\", c, \"d=\", d, \"b=\", b)\n",
        "\n",
        "    if abs(a - b) < absolutePrecision:\n",
        "        return (a + b)/2\n",
        " \n",
        "    # recurrence\n",
        "    if f(d) < f(c):\n",
        "        return goldenSectionSearch(f, c, b, absolutePrecision)\n",
        "    else:\n",
        "        return goldenSectionSearch(f, a, d, absolutePrecision)\n",
        "\n",
        "if __name__ == '__main__':\n",
        "    a = -1.\n",
        "    b = 1.\n",
        "    N = 1000\n",
        "    absolutePrecision = 1e-10\n",
        "    \n",
        "    x = goldenSectionSearch(f, a, b, absolutePrecision)\n",
        "    print(\"Root = \", x)\n",
        "\n",
        "    xpoints = np.linspace(a, b, N)\n",
        "    ypoints = f(xpoints)\n",
        "    plt.plot(xpoints, ypoints)\n",
        "\n",
        "    c, d = golden_ratio(a, b)\n",
        "    plt.scatter(a, 0., marker='x', s=200, color='green') \n",
        "    plt.scatter(b, 0., marker='x', s=200, color='green') \n",
        "    plt.scatter(c, 0., marker='x', s=200, color='green') \n",
        "    plt.scatter(d, 0., marker='x', s=200, color='green') \n",
        "    plt.scatter(x, 0., marker='x', s=200, color='red')  # plot the root\n",
        "    plt.grid()\n",
        "    plt.show()"
      ],
      "execution_count": null,
      "outputs": [
        {
          "output_type": "stream",
          "name": "stdout",
          "text": [
            "a= -1.0 c= -0.2360679774997897 d= 0.2360679774997897 b= 1.0\n",
            "a= -0.2360679774997897 c= 0.2360679774997897 d= 0.5278640450004206 b= 1.0\n",
            "a= 0.2360679774997897 c= 0.5278640450004206 d= 0.7082039324993692 b= 1.0\n",
            "a= 0.2360679774997897 c= 0.4164078649987382 d= 0.5278640450004206 b= 0.7082039324993692\n",
            "a= 0.4164078649987382 c= 0.5278640450004206 d= 0.5967477524976867 b= 0.7082039324993692\n",
            "a= 0.4164078649987382 c= 0.48529157249600424 d= 0.5278640450004206 b= 0.5967477524976867\n",
            "a= 0.4164078649987382 c= 0.45898033750315453 d= 0.48529157249600424 b= 0.5278640450004206\n",
            "a= 0.45898033750315453 c= 0.4852915724960042 d= 0.5015528100075709 b= 0.5278640450004206\n",
            "a= 0.4852915724960042 c= 0.501552810007571 d= 0.5116028074888539 b= 0.5278640450004206\n",
            "a= 0.4852915724960042 c= 0.4953415699772872 d= 0.5015528100075709 b= 0.5116028074888539\n",
            "a= 0.4953415699772872 c= 0.5015528100075709 d= 0.5053915674585702 b= 0.5116028074888539\n",
            "a= 0.4953415699772872 c= 0.4991803274282864 d= 0.5015528100075708 b= 0.5053915674585702\n",
            "a= 0.4953415699772872 c= 0.4977140525565716 d= 0.4991803274282864 b= 0.5015528100075708\n",
            "a= 0.4977140525565716 c= 0.49918032742828633 d= 0.500086535135856 b= 0.5015528100075708\n",
            "a= 0.49918032742828633 c= 0.500086535135856 d= 0.5006466023000012 b= 0.5015528100075708\n",
            "a= 0.49918032742828633 c= 0.4997403945924315 d= 0.500086535135856 b= 0.5006466023000012\n",
            "a= 0.4997403945924315 c= 0.5000865351358561 d= 0.5003004617565767 b= 0.5006466023000012\n",
            "a= 0.4997403945924315 c= 0.4999543212131522 d= 0.500086535135856 b= 0.5003004617565767\n",
            "a= 0.4997403945924315 c= 0.4998726085151353 d= 0.49995432121315225 b= 0.500086535135856\n",
            "a= 0.4998726085151353 c= 0.49995432121315225 d= 0.5000048224378392 b= 0.500086535135856\n",
            "a= 0.49995432121315225 c= 0.5000048224378391 d= 0.5000360339111691 b= 0.500086535135856\n",
            "a= 0.49995432121315225 c= 0.49998553268648227 d= 0.5000048224378392 b= 0.5000360339111691\n",
            "a= 0.49998553268648227 c= 0.5000048224378391 d= 0.5000167441598122 b= 0.5000360339111691\n",
            "a= 0.49998553268648227 c= 0.4999974544084554 d= 0.5000048224378392 b= 0.5000167441598122\n",
            "a= 0.49998553268648227 c= 0.49999290071586605 d= 0.4999974544084554 b= 0.5000048224378392\n",
            "a= 0.49999290071586605 c= 0.49999745440845533 d= 0.5000002687452498 b= 0.5000048224378392\n",
            "a= 0.49999745440845533 c= 0.5000002687452499 d= 0.5000020081010447 b= 0.5000048224378392\n",
            "a= 0.49999745440845533 c= 0.4999991937642501 d= 0.5000002687452498 b= 0.5000020081010447\n",
            "a= 0.4999991937642501 c= 0.5000002687452498 d= 0.500000933120045 b= 0.5000020081010447\n",
            "a= 0.4999991937642501 c= 0.4999998581390452 d= 0.5000002687452498 b= 0.500000933120045\n",
            "a= 0.4999991937642501 c= 0.4999996043704547 d= 0.4999998581390452 b= 0.5000002687452498\n",
            "a= 0.4999996043704547 c= 0.49999985813904513 d= 0.5000000149766594 b= 0.5000002687452498\n",
            "a= 0.49999985813904513 c= 0.5000000149766594 d= 0.5000001119076357 b= 0.5000002687452498\n",
            "a= 0.49999985813904513 c= 0.49999995507002143 d= 0.5000000149766594 b= 0.5000001119076357\n",
            "a= 0.49999995507002143 c= 0.5000000149766594 d= 0.5000000520009978 b= 0.5000001119076357\n",
            "a= 0.49999995507002143 c= 0.49999999209435986 d= 0.5000000149766595 b= 0.5000000520009978\n",
            "a= 0.49999995507002143 c= 0.499999977952321 d= 0.49999999209435986 b= 0.5000000149766595\n",
            "a= 0.499999977952321 c= 0.49999999209435986 d= 0.5000000008346206 b= 0.5000000149766595\n",
            "a= 0.49999999209435986 c= 0.5000000008346206 d= 0.5000000062363987 b= 0.5000000149766595\n",
            "a= 0.49999999209435986 c= 0.49999999749613805 d= 0.5000000008346206 b= 0.5000000062363987\n",
            "a= 0.49999999749613805 c= 0.5000000008346205 d= 0.5000000028979162 b= 0.5000000062363987\n",
            "a= 0.49999999749613805 c= 0.49999999955943375 d= 0.5000000008346206 b= 0.5000000028979162\n",
            "a= 0.49999999749613805 c= 0.4999999987713249 d= 0.4999999995594337 b= 0.5000000008346206\n",
            "a= 0.4999999987713249 c= 0.4999999995594337 d= 0.5000000000465117 b= 0.5000000008346206\n",
            "a= 0.4999999995594337 c= 0.5000000000465118 d= 0.5000000003475426 b= 0.5000000008346206\n",
            "a= 0.4999999995594337 c= 0.49999999986046445 d= 0.5000000000465117 b= 0.5000000003475426\n",
            "a= 0.49999999986046445 c= 0.5000000000465117 d= 0.5000000001614953 b= 0.5000000003475426\n",
            "a= 0.49999999986046445 c= 0.49999999997544803 d= 0.5000000000465118 b= 0.5000000001614953\n",
            "a= 0.49999999986046445 c= 0.49999999993152816 d= 0.49999999997544803 b= 0.5000000000465118\n",
            "a= 0.49999999993152816 c= 0.49999999997544803 d= 0.500000000002592 b= 0.5000000000465118\n",
            "a= 0.49999999997544803 c= 0.5000000000025919 d= 0.5000000000193678 b= 0.5000000000465118\n",
            "Root =  0.5000000000109799\n"
          ]
        },
        {
          "output_type": "display_data",
          "data": {
            "text/plain": [
              "<Figure size 432x288 with 1 Axes>"
            ],
            "image/png": "[encoded data removed]"
          },
          "metadata": {
            "needs_background": "light"
          }
        }
      ]
    },
    {
      "cell_type": "code",
      "metadata": {
        "id": "t-E0D1-3ho8T",
        "colab": {
          "base_uri": "https://localhost:8080/"
        },
        "outputId": "f8824436-1e72-420f-b2ea-fae8f9059d71"
      },
      "source": [
        "from math import exp,sqrt\n",
        "\n",
        "# Constants\n",
        "sigma = 1.0             # Value of sigma in nm\n",
        "accuracy = 1e-6         # Required accuracy in nm\n",
        "z = (1+sqrt(5))/2       # Golden ratio\n",
        "\n",
        "# Function to calculate the Buckingham potential\n",
        "def f(r):\n",
        "    return (sigma/r)**6 - exp(-r/sigma)\n",
        "\n",
        "# Initial positions of the four points\n",
        "x1 = sigma/10\n",
        "x4 = sigma*10\n",
        "x2 = x4 - (x4-x1)/z\n",
        "x3 = x1 + (x4-x1)/z\n",
        "\n",
        "# Initial values of the function at the four points\n",
        "f1 = f(x1)\n",
        "f2 = f(x2)\n",
        "f3 = f(x3)\n",
        "f4 = f(x4)\n",
        "\n",
        "# Main loop of the search process\n",
        "while x4-x1>accuracy:\n",
        "    if f2<f3:\n",
        "        x4,f4 = x3,f3\n",
        "        x3,f3 = x2,f2\n",
        "        x2 = x4 - (x4-x1)/z\n",
        "        f2 = f(x2)\n",
        "    else:\n",
        "        x1,f1 = x2,f2\n",
        "        x2,f2 = x3,f3\n",
        "        x3 = x1 + (x4-x1)/z\n",
        "        f3 = f(x3)\n",
        "\n",
        "# Print the result\n",
        "print(\"The minimum falls at\",0.5*(x1+x4),\"nm\")"
      ],
      "execution_count": null,
      "outputs": [
        {
          "output_type": "stream",
          "name": "stdout",
          "text": [
            "The minimum falls at 1.630516067174875 nm\n"
          ]
        }
      ]
    },
    {
      "cell_type": "markdown",
      "metadata": {
        "id": "j9bgnitWdCIv"
      },
      "source": [
        "# Gradient descent"
      ]
    },
    {
      "cell_type": "code",
      "metadata": {
        "id": "8XZFbhBoc-lx",
        "colab": {
          "base_uri": "https://localhost:8080/",
          "height": 301
        },
        "outputId": "8a1e7121-21a3-49dd-c402-a493823fb9ff"
      },
      "source": [
        "import numpy as np\n",
        "import matplotlib.pyplot as plt\n",
        "\n",
        "# define the function\n",
        "def function(x):\n",
        "    return (x ** 3)-(3 *(x ** 2))+7\n",
        "\n",
        "# derivative function\n",
        "def deriv(x):    \n",
        "    x_deriv = 3* (x**2) - (6 * (x))\n",
        "    return x_deriv\n",
        "\n",
        "# gradient descent method\n",
        "def gradient_descent(x_new, x_prev, precision, l_r, gamma):\n",
        "    # create empty lists where the updated values of x and y wil be appended during each iteration\n",
        "    x_list, y_list = [x_new], [function(x_new)]\n",
        "\n",
        "    # keep looping until your desired precision\n",
        "    while abs(x_new - x_prev) > precision:    \n",
        "        x_prev = x_new\n",
        "        \n",
        "        # get the derivation of the old value of x\n",
        "        d_x =  gamma * deriv(x_prev)  \n",
        "        \n",
        "        # recalculate x_new\n",
        "        x_new = x_prev + (l_r * d_x)\n",
        "        \n",
        "        # add to the lists\n",
        "        x_list.append(x_new)\n",
        "        y_list.append(function(x_new))\n",
        "\n",
        "    print (\"Local minimum occurs at: \"+ str(x_new))\n",
        "    print (\"Number of steps: \" + str(len(x_list)))\n",
        "    return x_list, y_list\n",
        "    \n",
        "if __name__==\"__main__\":\n",
        "    gamma = -1.\n",
        "    x_init = 0.5\n",
        "    x_prev = 0.1\n",
        "    precision = 0.0001\n",
        "    step = 0.05\n",
        "\n",
        "    x = np.linspace(-1,3,500)\n",
        "    y = function(x)\n",
        "    x_list, y_list = gradient_descent(x_init, x_prev, precision, step, gamma)\n",
        "\n",
        "    plt.scatter(x_list,y_list,c=\"g\")\n",
        "    plt.plot(x_list,y_list,c=\"g\")\n",
        "    plt.plot(x, y, c=\"r\")\n",
        "    plt.show()"
      ],
      "execution_count": null,
      "outputs": [
        {
          "output_type": "stream",
          "name": "stdout",
          "text": [
            "Local minimum occurs at: 1.9997675322369681\n",
            "Number of steps: 31\n"
          ]
        },
        {
          "output_type": "display_data",
          "data": {
            "text/plain": [
              "<Figure size 432x288 with 1 Axes>"
            ],
            "image/png": "[encoded data removed]"
          },
          "metadata": {
            "needs_background": "light"
          }
        }
      ]
    }
  ]
}